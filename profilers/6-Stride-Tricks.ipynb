{
 "cells": [
  {
   "cell_type": "markdown",
   "metadata": {},
   "source": [
    "## Using stride tricks with NumPy\n",
    "Generalize the notion of row-major and column-major orders to multidimensional arrays. The general notion is that of strides, which describes how the items of a multidimensional array are organized within a one-dimensional data buffer. These are mostly an implementation detail, but they can also be used in specific situations to optimize some algorithms.\n",
    "\n",
    "### How it works\n",
    "Every array has a number of dimensions, a shape, a data type, and strides. Strides describe how the items of a multidimensional array are organized in the databuffer. There are many different schemes for arranging the items of a multidimensional array in a one-dimensional block. NumPy implements a **strided indexing scheme**, where the position of any element is a **linear combination** of the dimensions, the coefficients being the strides. In other words, strides describe, in any dimension, how many bytes we need to jump over the data buffer to go from one item to the next.  "
   ]
  },
  {
   "cell_type": "code",
   "execution_count": 1,
   "metadata": {},
   "outputs": [],
   "source": [
    "import numpy as np\n",
    "def aid(x):\n",
    "    # This function returns the memory\n",
    "    # block address of an array\n",
    "    return x.__array__interface__['data'][0]"
   ]
  },
  {
   "cell_type": "markdown",
   "metadata": {},
   "source": [
    "1. Strides are integer numbers describing the byte step in the contiguous block of memory for each dimension."
   ]
  },
  {
   "cell_type": "code",
   "execution_count": 2,
   "metadata": {},
   "outputs": [
    {
     "data": {
      "text/plain": [
       "(8,)"
      ]
     },
     "execution_count": 2,
     "metadata": {},
     "output_type": "execute_result"
    }
   ],
   "source": [
    "x = np.zeros(10)\n",
    "x.strides"
   ]
  },
  {
   "cell_type": "markdown",
   "metadata": {},
   "source": [
    "This vector `x` contains double-precision floating point numbers (`float64`, 8 bytes), so you need to go 8 byte forward to go from one item to the next.\n",
    "\n",
    "2. Now, let's look at the strides of a 2D array:"
   ]
  },
  {
   "cell_type": "code",
   "execution_count": 3,
   "metadata": {},
   "outputs": [
    {
     "data": {
      "text/plain": [
       "(80, 8)"
      ]
     },
     "execution_count": 3,
     "metadata": {},
     "output_type": "execute_result"
    }
   ],
   "source": [
    "y = np.zeros((10, 10))\n",
    "y.strides"
   ]
  },
  {
   "cell_type": "markdown",
   "metadata": {},
   "source": [
    "In the first dimension (vertical), you need to go 80 bytes (10 float64 items) *forward* to go from one item to the next, because the items are internally stored in row-major order. In the second dimension (horizontal), you need to go 8 bytes forward to go from one item to the next.\n",
    "\n",
    "3. Let's show how we can revisit the broadcasting rules from the previous recipe using strides:"
   ]
  },
  {
   "cell_type": "code",
   "execution_count": 4,
   "metadata": {},
   "outputs": [],
   "source": [
    "n = 1000\n",
    "a = np.arange(n)"
   ]
  },
  {
   "cell_type": "markdown",
   "metadata": {},
   "source": [
    "We will create a new array `b`, pointing to the same memory block as `a`, but with a different shape and different strides. This new array will look like a vertical tiled version of `a`. We use a special function in NumPy to change the strides of an array:"
   ]
  },
  {
   "cell_type": "code",
   "execution_count": 5,
   "metadata": {},
   "outputs": [
    {
     "data": {
      "text/plain": [
       "array([[  0,   1,   2, ..., 997, 998, 999],\n",
       "       [  0,   1,   2, ..., 997, 998, 999],\n",
       "       [  0,   1,   2, ..., 997, 998, 999],\n",
       "       ...,\n",
       "       [  0,   1,   2, ..., 997, 998, 999],\n",
       "       [  0,   1,   2, ..., 997, 998, 999],\n",
       "       [  0,   1,   2, ..., 997, 998, 999]])"
      ]
     },
     "execution_count": 5,
     "metadata": {},
     "output_type": "execute_result"
    }
   ],
   "source": [
    "b = np.lib.stride_tricks.as_strided(a, (n, n), (0, 8))\n",
    "b"
   ]
  },
  {
   "cell_type": "code",
   "execution_count": 6,
   "metadata": {},
   "outputs": [
    {
     "data": {
      "text/plain": [
       "(1000000, (1000, 1000), 8000000)"
      ]
     },
     "execution_count": 6,
     "metadata": {},
     "output_type": "execute_result"
    }
   ],
   "source": [
    "b.size, b.shape, b.nbytes"
   ]
  },
  {
   "cell_type": "markdown",
   "metadata": {},
   "source": [
    "NumPy believes that this array contains one million different elements, whereas the data buffer actually contains the same 1000 elements as `a`.\n",
    "\n",
    "4. We can now perform an efficient outer product using the same principle as with broadcasting rules:"
   ]
  },
  {
   "cell_type": "code",
   "execution_count": 7,
   "metadata": {},
   "outputs": [
    {
     "name": "stdout",
     "output_type": "stream",
     "text": [
      "771 µs ± 8.19 µs per loop (mean ± std. dev. of 7 runs, 1000 loops each)\n"
     ]
    }
   ],
   "source": [
    "%timeit b * b.T"
   ]
  },
  {
   "cell_type": "code",
   "execution_count": 9,
   "metadata": {},
   "outputs": [
    {
     "name": "stdout",
     "output_type": "stream",
     "text": [
      "5.72 ms ± 73.9 µs per loop (mean ± std. dev. of 7 runs, 100 loops each)\n"
     ]
    }
   ],
   "source": [
    "%%timeit\n",
    "np.tile(a, (n, 1)) * np.tile(a[:, np.newaxis], (1, n))"
   ]
  }
 ],
 "metadata": {
  "kernelspec": {
   "display_name": "Python 3",
   "language": "python",
   "name": "python3"
  },
  "language_info": {
   "codemirror_mode": {
    "name": "ipython",
    "version": 3
   },
   "file_extension": ".py",
   "mimetype": "text/x-python",
   "name": "python",
   "nbconvert_exporter": "python",
   "pygments_lexer": "ipython3",
   "version": "3.7.3"
  }
 },
 "nbformat": 4,
 "nbformat_minor": 2
}
