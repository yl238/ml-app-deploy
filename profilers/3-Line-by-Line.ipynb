{
 "cells": [
  {
   "cell_type": "markdown",
   "metadata": {},
   "source": [
    "# Profiling code line-by-line with `line_profiler`"
   ]
  },
  {
   "cell_type": "markdown",
   "metadata": {},
   "source": [
    "Line Profiler has a problem installing in Python 3.7, so you have to clone from repo and install.\n",
    "This is an issue with the precompiled `*c` files being used instead of running cython over `*pyx`."
   ]
  },
  {
   "cell_type": "code",
   "execution_count": null,
   "metadata": {
    "scrolled": true
   },
   "outputs": [],
   "source": [
    "!git clone https://github.com/rkern/line_profiler.git\n",
    "!find line_profiler -name '*.pyx' -exec cython {} \\;\n",
    "!cd line_profiler && pip install . "
   ]
  },
  {
   "cell_type": "code",
   "execution_count": 9,
   "metadata": {},
   "outputs": [],
   "source": [
    "import numpy as np\n",
    "%load_ext line_profiler"
   ]
  },
  {
   "cell_type": "markdown",
   "metadata": {},
   "source": [
    "### Really useful tool to write script to file!!\n",
    "However, the functions are no longer available in this notebook and will need to be reimported."
   ]
  },
  {
   "cell_type": "code",
   "execution_count": 10,
   "metadata": {},
   "outputs": [
    {
     "name": "stdout",
     "output_type": "stream",
     "text": [
      "Writing simulation.py\n"
     ]
    }
   ],
   "source": [
    "%%writefile simulation.py\n",
    "import numpy as np\n",
    "\n",
    "def step(*shape):\n",
    "    # Create a random n-vector with +1 or -1 values.\n",
    "    return 2 * (np.random.random_sample(shape) < .5) - 1\n",
    "\n",
    "def simulate(iterations, n=10000):\n",
    "    s = step(iterations, n)\n",
    "    x = np.cumsum(s, axis=0)\n",
    "    bins = np.arange(-30, 30, 1)\n",
    "    y = np.vstack([np.histogram(x[i,:], bins)[0]\n",
    "                  for i in range(iterations)])\n",
    "    return y"
   ]
  },
  {
   "cell_type": "code",
   "execution_count": 11,
   "metadata": {},
   "outputs": [],
   "source": [
    "from simulation import simulate"
   ]
  },
  {
   "cell_type": "markdown",
   "metadata": {},
   "source": [
    "### Run line profiler\n",
    "If you run the line below, a pop up will appear with the results. Alternatively can view by opening the file.\n",
    "\n",
    "`%lprun` command accepts a Python statement as its main argument. The functions to profile need to be explicitly specified with `-f`. \n",
    "\n",
    "The `line_profiler` module displays the time spent on each line of the profiled functions, either in timer units or as fraction of the total execution time."
   ]
  },
  {
   "cell_type": "code",
   "execution_count": 13,
   "metadata": {},
   "outputs": [
    {
     "name": "stdout",
     "output_type": "stream",
     "text": [
      "\n",
      "*** Profile printout saved to text file 'lprof0'. \n"
     ]
    }
   ],
   "source": [
    "%lprun -T lprof0 -f simulate simulate(50)"
   ]
  },
  {
   "cell_type": "code",
   "execution_count": 14,
   "metadata": {},
   "outputs": [
    {
     "name": "stdout",
     "output_type": "stream",
     "text": [
      "Timer unit: 1e-06 s\n",
      "\n",
      "Total time: 0.026834 s\n",
      "File: /Users/sueliu/Downloads/python-extras/profilers/simulation.py\n",
      "Function: simulate at line 7\n",
      "\n",
      "Line #      Hits         Time  Per Hit   % Time  Line Contents\n",
      "==============================================================\n",
      "     7                                           def simulate(iterations, n=10000):\n",
      "     8         1       6649.0   6649.0     24.8      s = step(iterations, n)\n",
      "     9         1       2613.0   2613.0      9.7      x = np.cumsum(s, axis=0)\n",
      "    10         1         17.0     17.0      0.1      bins = np.arange(-30, 30, 1)\n",
      "    11         1          3.0      3.0      0.0      y = np.vstack([np.histogram(x[i,:], bins)[0]\n",
      "    12         1      17551.0  17551.0     65.4                    for i in range(iterations)])\n",
      "    13         1          1.0      1.0      0.0      return y\n"
     ]
    }
   ],
   "source": [
    "print(open('lprof0', 'r').read())"
   ]
  },
  {
   "cell_type": "code",
   "execution_count": null,
   "metadata": {},
   "outputs": [],
   "source": []
  }
 ],
 "metadata": {
  "kernelspec": {
   "display_name": "Python 3",
   "language": "python",
   "name": "python3"
  },
  "language_info": {
   "codemirror_mode": {
    "name": "ipython",
    "version": 3
   },
   "file_extension": ".py",
   "mimetype": "text/x-python",
   "name": "python",
   "nbconvert_exporter": "python",
   "pygments_lexer": "ipython3",
   "version": "3.7.3"
  }
 },
 "nbformat": 4,
 "nbformat_minor": 2
}
