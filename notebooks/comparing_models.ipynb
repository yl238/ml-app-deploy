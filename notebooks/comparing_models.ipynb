{
 "cells": [
  {
   "cell_type": "markdown",
   "metadata": {},
   "source": [
    "## Comparing models\n",
    "We compare the three models we've trained using:\n",
    "* Aggregate metrics\n",
    "* Performance visualizations\n",
    "* Dataset visualizations"
   ]
  },
  {
   "cell_type": "code",
   "execution_count": 1,
   "metadata": {},
   "outputs": [],
   "source": [
    "from standard_libs import *"
   ]
  },
  {
   "cell_type": "code",
   "execution_count": 10,
   "metadata": {},
   "outputs": [],
   "source": [
    "%load_ext autoreload\n",
    "%autoreload 2"
   ]
  },
  {
   "cell_type": "code",
   "execution_count": 30,
   "metadata": {},
   "outputs": [],
   "source": [
    "from sklearn.metrics import accuracy_score, f1_score, precision_score, recall_score, classification_report\n",
    "from sklearn.calibration import calibration_curve\n",
    "from sklearn.metrics import brier_score_loss\n",
    "\n",
    "from ml_editor.data_processing import (\n",
    "    format_raw_df,\n",
    "    add_text_features_to_df,\n",
    "    get_split_by_author,\n",
    "    get_vectorized_series,\n",
    "    get_vectorized_inputs_and_label,\n",
    "    get_feature_vector_and_label\n",
    ")\n",
    "\n",
    "\n",
    "from ml_editor.model_evaluation import (\n",
    "    get_feature_importance, \n",
    "    get_calibration_plot,\n",
    "    get_metrics,\n",
    ")\n",
    "from ml_editor.model_v2 import POS_NAMES"
   ]
  },
  {
   "cell_type": "code",
   "execution_count": 23,
   "metadata": {},
   "outputs": [],
   "source": [
    "data_path = Path('../data/writers_with_features.csv')\n",
    "df = pd.read_csv(data_path)"
   ]
  },
  {
   "cell_type": "code",
   "execution_count": 24,
   "metadata": {},
   "outputs": [],
   "source": [
    "clf_1 = joblib.load(Path('../models/model_1.pkl'))\n",
    "vectorizer_1 = joblib.load(Path('../models/vectorizer_1.pkl'))\n",
    "clf_2 = joblib.load(Path('../models/model_2.pkl'))\n",
    "vectorizer_2 = joblib.load(Path('../models/vectorizer_2.pkl'))\n",
    "\n",
    "clf_3 = joblib.load(Path('../models/model_3.pkl'))"
   ]
  },
  {
   "cell_type": "code",
   "execution_count": 25,
   "metadata": {},
   "outputs": [],
   "source": [
    "train_df, test_df = get_split_by_author(df, test_size=0.2, random_state=42)"
   ]
  },
  {
   "cell_type": "code",
   "execution_count": 26,
   "metadata": {},
   "outputs": [],
   "source": [
    "train_df['vectors'] = get_vectorized_series(train_df['full_text'].copy(), vectorizer_1)\n",
    "test_df['vectors'] = get_vectorized_series(test_df['full_text'].copy(), vectorizer_1)\n",
    "\n",
    "features_1 = [\n",
    "    \"action_verb_full\",\n",
    "    \"question_mark_full\",\n",
    "    \"text_len\",\n",
    "    \"language_question\",\n",
    "]\n",
    "\n",
    "features_2 = [\"num_questions\", \n",
    "               \"num_periods\",\n",
    "               \"num_commas\",\n",
    "               \"num_exclam\",\n",
    "               \"num_quotes\",\n",
    "               \"num_colon\",\n",
    "               \"num_stops\",\n",
    "               \"num_semicolon\",\n",
    "               \"num_words\",\n",
    "               \"num_chars\",\n",
    "               \"num_diff_words\",\n",
    "               \"avg_word_len\",\n",
    "               \"polarity\"\n",
    "              ]\n",
    "features_2.extend(POS_NAMES.keys())"
   ]
  },
  {
   "cell_type": "code",
   "execution_count": 27,
   "metadata": {},
   "outputs": [],
   "source": [
    "X_test_1, y_test = get_feature_vector_and_label(test_df, features_1)\n",
    "X_test_2, y_test = get_feature_vector_and_label(test_df, features_2)"
   ]
  },
  {
   "cell_type": "code",
   "execution_count": 28,
   "metadata": {},
   "outputs": [],
   "source": [
    "X_test_3 = test_df[features_2].astype(float)"
   ]
  },
  {
   "cell_type": "code",
   "execution_count": 29,
   "metadata": {},
   "outputs": [],
   "source": [
    "clf1_predicted_proba = clf_1.predict_proba(X_test_1)\n",
    "clf2_predicted_proba = clf_2.predict_proba(X_test_2)\n",
    "clf3_predicted_proba = clf_3.predict_proba(X_test_3)\n",
    "\n",
    "clf1_predicted = clf_1.predict(X_test_1)\n",
    "clf2_predicted = clf_2.predict(X_test_2)\n",
    "clf3_predicted = clf_3.predict(X_test_3)"
   ]
  },
  {
   "cell_type": "code",
   "execution_count": 31,
   "metadata": {},
   "outputs": [
    {
     "name": "stdout",
     "output_type": "stream",
     "text": [
      "Model 1: Validation accuracy = 0.597, precision = 0.569, recall = 0.557, f1 = 0.563\n",
      "Model 2: Validation accuracy = 0.589, precision = 0.565, recall = 0.512, f1 = 0.537\n",
      "Model 3: Validation accuracy = 0.574, precision = 0.553, recall = 0.456, f1 = 0.500\n"
     ]
    }
   ],
   "source": [
    "for i, y_predicted in enumerate([clf1_predicted, clf2_predicted, clf3_predicted]):\n",
    "    accuracy, precision, recall, f1 = get_metrics(y_test, y_predicted)\n",
    "    print(\"Model %s: Validation accuracy = %.3f, precision = %.3f, recall = %.3f, f1 = %.3f\" % ((i+1), accuracy, precision, recall, f1))"
   ]
  },
  {
   "cell_type": "markdown",
   "metadata": {},
   "source": [
    "### Comparing feature importance"
   ]
  },
  {
   "cell_type": "code",
   "execution_count": 32,
   "metadata": {},
   "outputs": [],
   "source": [
    "def display_importance(clf, feature_names, k=10):\n",
    "    print(\"Top %s importances:\\n\" % k)\n",
    "    print('\\n'.join([\"%s: %.2g\" % (tup[0], tup[1]) for tup in get_feature_importance(clf, feature_names)[:k]]))\n",
    "\n",
    "    print(\"\\nBottom %s importances:\\n\" % k)\n",
    "    print('\\n'.join([\"%s: %.2g\" % (tup[0], tup[1]) for tup in get_feature_importance(clf, feature_names)[-k:]]))"
   ]
  },
  {
   "cell_type": "code",
   "execution_count": 33,
   "metadata": {},
   "outputs": [
    {
     "name": "stdout",
     "output_type": "stream",
     "text": [
      "Model 1\n",
      "Top 10 importances:\n",
      "\n",
      "text_len: 0.0083\n",
      "are: 0.0057\n",
      "what: 0.0049\n",
      "ve: 0.0047\n",
      "writing: 0.0045\n",
      "can: 0.0044\n",
      "do: 0.0041\n",
      "story: 0.0041\n",
      "don: 0.004\n",
      "not: 0.0037\n",
      "\n",
      "Bottom 10 importances:\n",
      "\n",
      "goodreads: 0\n",
      "brilliance: 0\n",
      "goods: 0\n",
      "temperature: 0\n",
      "brevity: 0\n",
      "breeze: 0\n",
      "temple: 0\n",
      "plate: 0\n",
      "bread: 0\n",
      "lone: 0\n"
     ]
    }
   ],
   "source": [
    "print(\"Model 1\")\n",
    "w_indices = vectorizer_1.get_feature_names()\n",
    "w_indices.extend(features_1)\n",
    "all_feature_1 = np.array(w_indices)\n",
    "display_importance(clf_1, all_feature_1)"
   ]
  },
  {
   "cell_type": "code",
   "execution_count": 34,
   "metadata": {},
   "outputs": [
    {
     "name": "stdout",
     "output_type": "stream",
     "text": [
      "Model 2\n",
      "Top 10 importances:\n",
      "\n",
      "num_chars: 0.0086\n",
      "num_periods: 0.0081\n",
      "num_diff_words: 0.0081\n",
      "num_questions: 0.0073\n",
      "ADJ: 0.0068\n",
      "num_words: 0.0068\n",
      "PUNCT: 0.0067\n",
      "num_commas: 0.0067\n",
      "DET: 0.0067\n",
      "NOUN: 0.0066\n",
      "\n",
      "Bottom 10 importances:\n",
      "\n",
      "flee: 0\n",
      "muscles: 0\n",
      "balancing: 0\n",
      "sexuality: 0\n",
      "murky: 0\n",
      "sh: 0\n",
      "composition: 0\n",
      "shady: 0\n",
      "shake: 0\n",
      "brush: 0\n"
     ]
    }
   ],
   "source": [
    "print(\"Model 2\")\n",
    "w_indices = vectorizer_2.get_feature_names()\n",
    "w_indices.extend(features_2)\n",
    "all_feature_2 = np.array(w_indices)\n",
    "display_importance(clf_2, all_feature_2)"
   ]
  },
  {
   "cell_type": "code",
   "execution_count": 35,
   "metadata": {},
   "outputs": [
    {
     "name": "stdout",
     "output_type": "stream",
     "text": [
      "Model 3\n",
      "Top 10 importances:\n",
      "\n",
      "num_questions: 0.049\n",
      "num_periods: 0.049\n",
      "num_chars: 0.049\n",
      "num_diff_words: 0.049\n",
      "ADV: 0.046\n",
      "ADJ: 0.046\n",
      "DET: 0.044\n",
      "PART: 0.043\n",
      "num_commas: 0.042\n",
      "AUX: 0.042\n",
      "\n",
      "Bottom 10 importances:\n",
      "\n",
      "PROPN: 0.03\n",
      "NUM: 0.024\n",
      "num_colon: 0.022\n",
      "num_quotes: 0.019\n",
      "SYM: 0.014\n",
      "INTJ: 0.013\n",
      "X: 0.01\n",
      "num_semicolon: 0.0071\n",
      "num_exclam: 0.0069\n",
      "CONJ: 0\n"
     ]
    }
   ],
   "source": [
    "print(\"Model 3\")\n",
    "display_importance(clf_3, np.array(features_2))"
   ]
  },
  {
   "cell_type": "markdown",
   "metadata": {},
   "source": [
    "### Comparing calibration\n",
    "Next, we'll look at calibration, which is very important in an application were we want to show users meaningful scores representing the quality of their questions"
   ]
  },
  {
   "cell_type": "code",
   "execution_count": 36,
   "metadata": {},
   "outputs": [],
   "source": [
    "def get_multiple_calibration_plot(predicted_proba_arrays, true_y, figsize=(10, 8)):\n",
    "    \"\"\"\n",
    "    Inspired by sklearn example\n",
    "    https://scikit-learn.org/stable/auto_examples/calibration/plot_calibration_curve.html\n",
    "    :param figsize: size of the output figure\n",
    "    :param predicted_proba_y: the predicted probabilities of our model for each example\n",
    "    :param true_y: the true value of the label\n",
    "    :return: calibration plot\n",
    "    \"\"\"\n",
    "\n",
    "    plt.figure(figsize=figsize)\n",
    "    ax1 = plt.subplot2grid((3, 1), (0, 0), rowspan=2)\n",
    "    ax2 = plt.subplot2grid((3, 1), (2, 0))\n",
    "\n",
    "    ax1.plot([0, 1], [0, 1], \"k:\", label=\"Perfectly calibrated\")\n",
    "#     print(\"\\tBrier: %1.3f\" % clf_score)\n",
    "    \n",
    "    for i,predicted_proba_y in enumerate(predicted_proba_arrays):\n",
    "        fraction_of_positives, mean_predicted_value = calibration_curve(\n",
    "            true_y, predicted_proba_y, n_bins=10\n",
    "        )\n",
    "\n",
    "        ax1.plot(\n",
    "            mean_predicted_value,\n",
    "            fraction_of_positives,\n",
    "            \"s-\",\n",
    "            label = \"Model %s\" % (i + 1)\n",
    "        )\n",
    "\n",
    "        ax2.hist(\n",
    "            predicted_proba_y,\n",
    "            range=(0, 1),\n",
    "            bins=10,\n",
    "            histtype=\"step\",\n",
    "            label = \"Model %s\" % (i + 1),\n",
    "            lw=2,\n",
    "        )\n",
    "\n",
    "    ax1.set_ylabel(\"Fraction of positives\")\n",
    "    ax1.set_xlim([0, 1])\n",
    "    ax1.set_ylim([0, 1])\n",
    "    ax1.legend(loc=\"lower right\")\n",
    "    ax1.set_title(\"Calibration plot\")\n",
    "\n",
    "    ax2.set_title(\"Probability distribution\")\n",
    "    ax2.set_xlabel(\"Mean predicted value\")\n",
    "    ax2.set_ylabel(\"Count\")\n",
    "    ax2.legend(loc=\"upper right\", ncol=2)\n",
    "\n",
    "    plt.tight_layout()"
   ]
  },
  {
   "cell_type": "code",
   "execution_count": 37,
   "metadata": {},
   "outputs": [
    {
     "data": {
      "image/png": "[encoded data removed]",
      "text/plain": [
       "<Figure size 720x576 with 2 Axes>"
      ]
     },
     "metadata": {},
     "output_type": "display_data"
    }
   ],
   "source": [
    "predictions = [clf1_predicted_proba[:,1], clf2_predicted_proba[:,1], clf3_predicted_proba[:,1]]\n",
    "\n",
    "get_multiple_calibration_plot(predictions, y_test)"
   ]
  },
  {
   "cell_type": "markdown",
   "metadata": {},
   "source": [
    "The results here look a bit different from what was given in the textbook. For some reason Model 2 with all the word vectors give a better calibration curve. Model 3 shoots up at predicted value of 0.9"
   ]
  }
 ],
 "metadata": {
  "kernelspec": {
   "display_name": "Python 3.7.3 64-bit ('venv': virtualenv)",
   "language": "python",
   "name": "python37364bitvenvvirtualenvc41ffb309c4a48a8a3d1bf11d2652770"
  },
  "language_info": {
   "codemirror_mode": {
    "name": "ipython",
    "version": 3
   },
   "file_extension": ".py",
   "mimetype": "text/x-python",
   "name": "python",
   "nbconvert_exporter": "python",
   "pygments_lexer": "ipython3",
   "version": "3.7.3"
  }
 },
 "nbformat": 4,
 "nbformat_minor": 4
}
