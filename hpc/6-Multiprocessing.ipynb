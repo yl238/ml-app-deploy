{
 "cells": [
  {
   "cell_type": "markdown",
   "metadata": {},
   "source": [
    "## The `multiprocessing` library\n",
    "The multiprocessing module creates additional child processes with the same code as the parent process by either *forking* the parent on Unix systems (the OS snapshots the current running program into a new process). Each process runs its own Python interpreter and has its own GIL, each of which can utilize 100% of a CPU. Therefor if you have a quad-core processor and run four multiprocesses, it is possible to take advantage of 400% of your CPU.\n",
    "\n",
    "### Architecture\n",
    "<img src='figures/multiprocessing.png' width=500>\n",
    "\n",
    "It consists of a parent (main) program and multiple child processes (usually one per core). The parent program schedules work (provides input) for the children and consumes results (gathers output). Data is passed to and from children and the parent using the `pickle` module. When the parent process terminates, the child processes generally also terminate, though they can become orphaned and continue running on their own."
   ]
  },
  {
   "cell_type": "markdown",
   "metadata": {},
   "source": [
    "*Forking* causes multiple child processes to be instantiated, whereas *joining* causes child processes to be ended, and control is passed back to the primary process.  "
   ]
  },
  {
   "cell_type": "code",
   "execution_count": null,
   "metadata": {},
   "outputs": [],
   "source": [
    "!pip install "
   ]
  }
 ],
 "metadata": {
  "kernelspec": {
   "display_name": "Python 3",
   "language": "python",
   "name": "python3"
  },
  "language_info": {
   "codemirror_mode": {
    "name": "ipython",
    "version": 3
   },
   "file_extension": ".py",
   "mimetype": "text/x-python",
   "name": "python",
   "nbconvert_exporter": "python",
   "pygments_lexer": "ipython3",
   "version": "3.7.3"
  }
 },
 "nbformat": 4,
 "nbformat_minor": 2
}
