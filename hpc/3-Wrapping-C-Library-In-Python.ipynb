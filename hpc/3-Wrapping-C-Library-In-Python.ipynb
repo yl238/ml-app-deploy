{
 "cells": [
  {
   "cell_type": "markdown",
   "metadata": {},
   "source": [
    "## Wrapping a C library in Python with ctypes\n",
    "Wrapping a C library in Python allows us to leverage existing C code or to implement a critical part of the code in a fast language such as C.\n",
    "\n",
    "It is relatively easy to use externally compiled library with Python. The first possibility is to call a commandline executable with an `os.system` command, but this method does not extend to compiled libraries. A more powerful method consists of using a native Python module called **ctypes**. This module allows us to call functions defined in a compiled library (written in C) from Python.\n",
    "\n",
    "The `ctypes` module takes care of the data type conversions between C and Python. In addition, the `numpy.ctypeslib` module provides facilities to use NumPy arrays whenever data buffers are used in the external library."
   ]
  }
 ],
 "metadata": {
  "kernelspec": {
   "display_name": "Python 3",
   "language": "python",
   "name": "python3"
  },
  "language_info": {
   "codemirror_mode": {
    "name": "ipython",
    "version": 3
   },
   "file_extension": ".py",
   "mimetype": "text/x-python",
   "name": "python",
   "nbconvert_exporter": "python",
   "pygments_lexer": "ipython3",
   "version": "3.7.3"
  }
 },
 "nbformat": 4,
 "nbformat_minor": 2
}
