{
 "cells": [
  {
   "cell_type": "markdown",
   "metadata": {},
   "source": [
    "# High Performance Computing \n",
    "Three broad but not mutually exclusive categories:\n",
    "\n",
    "* **Just-In-Time (JIT)** of Python code\n",
    "* Resorting to a lower-level language such as C from Python\n",
    "* Dispatching tasks across multiple computing units using parallel computing\n",
    "\n",
    "## Just-In-Time compilation (JIT)\n",
    "- Python code is dynamically compiled into a lower-level language\n",
    "- Compilation occurs at runtime rather than ahead of execution.\n",
    "- Lead to fast *and* high-level languages, where as these two characteristics used to be mutually exclusive in general\n",
    "\n",
    "#### Packages\n",
    "- `Numba`\n",
    "- `Numexpr`\n",
    "- `Blaze`\n",
    "\n",
    "## Resorting to lower-level language such as C\n",
    "#### Libraries\n",
    "- `ctypes`: requires writing C code and having access to a C compiler or using a compiled C library\n",
    "- `SWIG`\n",
    "- `Cython`: Write code in a superset of Python, which is translated to C. Not always easy to write efficient Cython code.\n",
    "\n",
    "## Parallel computing techniques\n",
    "- Using multiple CPU cores with IPython\n",
    "- Massively parallel architectures such as GPUs"
   ]
  },
  {
   "cell_type": "code",
   "execution_count": 1,
   "metadata": {},
   "outputs": [
    {
     "name": "stdout",
     "output_type": "stream",
     "text": [
      "Collecting cython\n",
      "\u001b[?25l  Downloading https://files.pythonhosted.org/packages/d8/58/2deb24de3c10cc4c0f09639b46f4f4b50059f0fdc785128a57dd9fdce026/Cython-0.29.14-cp37-cp37m-manylinux1_x86_64.whl (2.1MB)\n",
      "\u001b[K     |████████████████████████████████| 2.1MB 488kB/s eta 0:00:01\n",
      "\u001b[?25hInstalling collected packages: cython\n",
      "Successfully installed cython-0.29.14\n"
     ]
    }
   ],
   "source": [
    "!pip install cython"
   ]
  }
 ],
 "metadata": {
  "kernelspec": {
   "display_name": "Python 3",
   "language": "python",
   "name": "python3"
  },
  "language_info": {
   "codemirror_mode": {
    "name": "ipython",
    "version": 3
   },
   "file_extension": ".py",
   "mimetype": "text/x-python",
   "name": "python",
   "nbconvert_exporter": "python",
   "pygments_lexer": "ipython3",
   "version": "3.7.3"
  }
 },
 "nbformat": 4,
 "nbformat_minor": 2
}
