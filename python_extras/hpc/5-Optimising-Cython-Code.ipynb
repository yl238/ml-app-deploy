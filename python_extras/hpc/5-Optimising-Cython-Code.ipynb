{
 "cells": [
  {
   "cell_type": "markdown",
   "metadata": {},
   "source": [
    "# Optimizing Cython code by writing less Python and more C\n",
    "We will implement a very simple ray tracing engine. **Ray tracing** consists of rendering a scene by simulating the physical properties of light propagation. This rendering method leads to photorealistic scenes, but it is computationally intensive.\n",
    "\n",
    "Here, we will render a single sphere and with diffuse and specular lighting. First, we will give the example code in Python, then will accelerate it incrementally with Cython."
   ]
  },
  {
   "cell_type": "code",
   "execution_count": null,
   "metadata": {},
   "outputs": [],
   "source": [
    "import matplotlib.pyplot as plt\n",
    "%matplotlib inline"
   ]
  },
  {
   "cell_type": "code",
   "execution_count": 10,
   "metadata": {},
   "outputs": [],
   "source": [
    "%load_ext Cython"
   ]
  },
  {
   "cell_type": "code",
   "execution_count": 11,
   "metadata": {},
   "outputs": [],
   "source": [
    "%%cython\n",
    "import numpy as np"
   ]
  },
  {
   "cell_type": "code",
   "execution_count": 2,
   "metadata": {},
   "outputs": [],
   "source": [
    "w, h = 400, 400 # Size of the window in pixels"
   ]
  },
  {
   "cell_type": "code",
   "execution_count": 3,
   "metadata": {},
   "outputs": [],
   "source": [
    "def normalize(x):\n",
    "    # this function normalizes a vector\n",
    "    x /= np.linalg.norm(x)\n",
    "    return x"
   ]
  },
  {
   "cell_type": "markdown",
   "metadata": {},
   "source": [
    "We declare a NumPy array with `np.ndarray[DBL_C, ndim=1]`. In this example, a 1D array of double precision floating point numbers. There is a difficulty here because NumPy arrays can only be declared in functions, not at the top level. So we need to slightly tweak the overall architecture of the code by passing some arrays as function arguments instead of using global variables.\n",
    "\n",
    "In the current implementation, we incur a performance hit because of the large number of NumPy function calls on small arrays (three elements). NumPy is designed to deal with large arrays, and it does not make much sense to use it for arrays that small.\n",
    "\n",
    "In this specific situation, we can try to bypass NumPy by rewriting some functions using the C standard librariy. We use the `cdef` keyword to declare a C-style function. Here we gain a 2-x speed up by replacing the `normalize()` python function with the following C function."
   ]
  },
  {
   "cell_type": "code",
   "execution_count": 16,
   "metadata": {},
   "outputs": [],
   "source": [
    "%%cython\n",
    "import numpy as np\n",
    "cimport numpy as np\n",
    "DBL = np.double \n",
    "ctypedef np.double_t DBL_C\n",
    "\n",
    "from libc.math cimport sqrt\n",
    "cdef normalize(np.ndarray[DBL_C, ndim=1] x):\n",
    "    cdef double n\n",
    "    n = sqrt(x[0]*x[0] + x[1]*x[1] + x[2]*x[2])\n",
    "    x[0] /= n\n",
    "    x[1] /= n\n",
    "    x[2] /= n\n",
    "    return x"
   ]
  },
  {
   "cell_type": "markdown",
   "metadata": {},
   "source": [
    "To get the most interesting speedups, we need to completely bypass NumPy. We use NumPy at\n",
    "* Many variables are NumPy arrays (most 1-D vectors with 3 elements)\n",
    "* Element-wise operations yield implicit NumPy API calls.\n",
    "* We also use a few NumPy built-in functions such as `numpy.dot()`.\n",
    "\n",
    "In order to bypass NumPy in our example, we need to reimplement all these features for our specific needs. We are going to define a pure C structure instead of using a Python type for our vectors. In otherwords, we are not only bypassing NumPy, but we are bypassing Python by moving to pure C code. To declare a C structure representing a 3D vector in Cython, we can use the following code:"
   ]
  },
  {
   "cell_type": "code",
   "execution_count": null,
   "metadata": {},
   "outputs": [],
   "source": [
    "%%cython\n",
    "cdef struct Vec3:\n",
    "    double x, y, z\n",
    "    \n",
    "cdef Vec3 vec3(double x, double y, double z):\n",
    "    cdef Vec3 v\n",
    "    v.x = x\n",
    "    v.y = y\n",
    "    v.z = z\n",
    "    return v\n",
    "\n",
    "cdef Vec3 add(Vec3 u, Vec3 v):\n",
    "    return vec3(u.x + v.x, u.y + v.y, u.z + v.z)"
   ]
  },
  {
   "cell_type": "markdown",
   "metadata": {},
   "source": [
    "Now we create a function that computes the intersection of a ray with a sphere:"
   ]
  },
  {
   "cell_type": "code",
   "execution_count": 4,
   "metadata": {},
   "outputs": [],
   "source": [
    "def intersect_sphere(O, D, S, R):\n",
    "    \"\"\" Return the distance from O to the intersection\n",
    "    of the ray (O, D) and the sphere (S, R), or\n",
    "    +inf if there is no intersection.\n",
    "    O and S are 3D points, D(direction) is a \n",
    "    normalized vector, R is a scalar.\n",
    "    \"\"\"\n",
    "    a = np.dot(D, D)\n",
    "    OS = O - S\n",
    "    b = 2 * np.dot(D, OS)\n",
    "    c = np.dot(OS, OS) - R * R\n",
    "    disc = b*b - 4*a*c\n",
    "    \n",
    "    if disc > 0:\n",
    "        distSqrt = np.sqrt(disc)\n",
    "        q = (-b - distSqrt) / 2.0 if b < 0 else (-b + distSqrt) / 2.0\n",
    "        t0 = q / a\n",
    "        t1 = c / q\n",
    "        t0, t1 = min(t0, t1), max(t0, t1)\n",
    "        if t1 >= 0:\n",
    "            return t1 if t0 < 0 else t0\n",
    "    return np.inf"
   ]
  },
  {
   "cell_type": "code",
   "execution_count": 5,
   "metadata": {},
   "outputs": [],
   "source": [
    "def trace_ray(O, D):\n",
    "    \"\"\"Find first point of intersection with the scene.\"\"\"\n",
    "    t = intersect_sphere(O, D, position, radius)\n",
    "    # No intersection?\n",
    "    if t == np.inf:\n",
    "        return\n",
    "    # Find the point of intersection on the object.\n",
    "    M = O + D * t\n",
    "    N = normalize(M - position)\n",
    "    toL = normalize(L - M)\n",
    "    toO = normalize(O - M)\n",
    "    # Ambient light\n",
    "    col = ambient\n",
    "    # Lambert shading (diffuse)\n",
    "    col += diffuse * max(np.dot(N, toL), 0) * color\n",
    "    # Blinn-Phon shading (specular).\n",
    "    col += specular_c * color_light * max(np.dot(N, normalize(toL + toO)), 0)** specular_k\n",
    "    return col"
   ]
  },
  {
   "cell_type": "code",
   "execution_count": 6,
   "metadata": {},
   "outputs": [],
   "source": [
    "def run():\n",
    "    img = np.zeros((h, w, 3))\n",
    "    # Loop through all pixels\n",
    "    for i, x in enumerate(np.linspace(-1, 1, w)):\n",
    "        for j, y in enumerate(np.linspace(-1, 1, h)):\n",
    "            # Position of the pixel\n",
    "            Q[0], Q[1] = x, y\n",
    "            # Direction of the ray going through\n",
    "            # the optical center.\n",
    "            D = normalize(Q - O)\n",
    "            # Launch the ray and get the color of the pixel.\n",
    "            col = trace_ray(O, D)\n",
    "            if col is None:\n",
    "                continue\n",
    "            img[h - j - 1, i, :] = np.clip(col, 0, 1)\n",
    "    return img"
   ]
  },
  {
   "cell_type": "code",
   "execution_count": 7,
   "metadata": {},
   "outputs": [],
   "source": [
    "# Sphere properties.\n",
    "position = np.array([0., 0., 1.])\n",
    "radius = 1\n",
    "color = np.array([0, 0, 1])\n",
    "diffuse = 1.\n",
    "specular_c = 1.\n",
    "specular_k = 50\n",
    "\n",
    "# Light position and color\n",
    "L = np.array([5., 5., -10.])\n",
    "color_light = np.ones(3)\n",
    "ambient = 0.05\n",
    "\n",
    "# camera\n",
    "O = np.array([0., 0., -1.]) # Position\n",
    "Q = np.array([0., 0., 0.]) # Pointing to"
   ]
  },
  {
   "cell_type": "code",
   "execution_count": 8,
   "metadata": {},
   "outputs": [
    {
     "data": {
      "image/png": "[encoded data removed]",
      "text/plain": [
       "<Figure size 720x720 with 1 Axes>"
      ]
     },
     "metadata": {
      "needs_background": "light"
     },
     "output_type": "display_data"
    }
   ],
   "source": [
    "img = run()\n",
    "fig, ax = plt.subplots(figsize=(10, 10))\n",
    "ax.imshow(img)\n",
    "ax.set_axis_off()"
   ]
  },
  {
   "cell_type": "code",
   "execution_count": 9,
   "metadata": {},
   "outputs": [
    {
     "name": "stdout",
     "output_type": "stream",
     "text": [
      "4.89 s ± 597 ms per loop (mean ± std. dev. of 7 runs, 1 loop each)\n"
     ]
    }
   ],
   "source": [
    "%timeit run()"
   ]
  }
 ],
 "metadata": {
  "kernelspec": {
   "display_name": "Python 3",
   "language": "python",
   "name": "python3"
  },
  "language_info": {
   "codemirror_mode": {
    "name": "ipython",
    "version": 3
   },
   "file_extension": ".py",
   "mimetype": "text/x-python",
   "name": "python",
   "nbconvert_exporter": "python",
   "pygments_lexer": "ipython3",
   "version": "3.7.3"
  }
 },
 "nbformat": 4,
 "nbformat_minor": 2
}
