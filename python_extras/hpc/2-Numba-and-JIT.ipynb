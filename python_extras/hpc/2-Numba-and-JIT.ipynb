{
 "cells": [
  {
   "cell_type": "markdown",
   "metadata": {},
   "source": [
    "## Accelerating pure Python code with Numba and just-in-time compilation\n",
    "`Numba` takes pure Python code and translates it automatically (just-in-time) into optimizaed machine code. In practice, this means we can write a non-vectorized function in Python, using `for` loops, and have this function vectorized automatically by a single decorator. \n",
    "\n",
    "Performance speedup compared to pure Python can reach several orders of magnitude and may even outmatch manually vectorized NumPy code."
   ]
  },
  {
   "cell_type": "code",
   "execution_count": 2,
   "metadata": {},
   "outputs": [],
   "source": [
    "import numpy as np\n",
    "size = 200\n",
    "iterations = 100"
   ]
  },
  {
   "cell_type": "markdown",
   "metadata": {},
   "source": [
    "The following function generates the fractal in pure Python. It accepts an empty array `m` as argument."
   ]
  },
  {
   "cell_type": "code",
   "execution_count": 3,
   "metadata": {},
   "outputs": [],
   "source": [
    "def mandelbrot_python(m, size, iterations):\n",
    "    for i in range(size):\n",
    "        for j in range(size):\n",
    "            c = -2 + 3./size * j + 1j*(1.5-3./size*i)\n",
    "            z = 0\n",
    "            for n in range(iterations):\n",
    "                if np.abs(z) <= 10:\n",
    "                    z = z*z + c\n",
    "                    m[i, j] = n\n",
    "                else:\n",
    "                    break"
   ]
  },
  {
   "cell_type": "code",
   "execution_count": 4,
   "metadata": {},
   "outputs": [],
   "source": [
    "m = np.zeros((size, size))\n",
    "mandelbrot_python(m, size, iterations)"
   ]
  },
  {
   "cell_type": "code",
   "execution_count": 5,
   "metadata": {},
   "outputs": [
    {
     "data": {
      "text/plain": [
       "([], <a list of 0 Text yticklabel objects>)"
      ]
     },
     "execution_count": 5,
     "metadata": {},
     "output_type": "execute_result"
    },
    {
     "data": {
      "image/png": "[encoded data removed]",
      "text/plain": [
       "<Figure size 432x288 with 1 Axes>"
      ]
     },
     "metadata": {},
     "output_type": "display_data"
    }
   ],
   "source": [
    "import matplotlib.pyplot as plt\n",
    "%matplotlib inline\n",
    "plt.imshow(np.log(m), cmap=plt.cm.hot)\n",
    "plt.xticks([]); plt.yticks([])"
   ]
  },
  {
   "cell_type": "markdown",
   "metadata": {},
   "source": [
    "Now, we evaluate the time taken by this function:"
   ]
  },
  {
   "cell_type": "code",
   "execution_count": 6,
   "metadata": {},
   "outputs": [
    {
     "name": "stdout",
     "output_type": "stream",
     "text": [
      "1.44 s ± 47.5 ms per loop (mean ± std. dev. of 7 runs, 1 loop each)\n"
     ]
    }
   ],
   "source": [
    "%%timeit m = np.zeros((size, size))\n",
    "mandelbrot_python(m, size, iterations)"
   ]
  },
  {
   "cell_type": "markdown",
   "metadata": {},
   "source": [
    "Let's try to accelerate this function using Numba"
   ]
  },
  {
   "cell_type": "code",
   "execution_count": 7,
   "metadata": {},
   "outputs": [],
   "source": [
    "import numba\n",
    "from numba import jit, complex128"
   ]
  },
  {
   "cell_type": "markdown",
   "metadata": {},
   "source": [
    "Next, we add the `@jit` decorator above the function definition. Numba tries to automatically infer the type of the local variables, but we can also specify the types explicitly:"
   ]
  },
  {
   "cell_type": "code",
   "execution_count": 9,
   "metadata": {},
   "outputs": [],
   "source": [
    "@jit(locals=dict(c=complex128, z=complex128))\n",
    "def mandelbrot_numba(m, size, iterations):\n",
    "    for i in range(size):\n",
    "        for j in range(size):\n",
    "            c = -2 + 3./size*j + 1j*(1.5-3./size*i)\n",
    "            z = 0\n",
    "            for n in range(iterations):\n",
    "                if np.abs(z) <= 10:\n",
    "                    z = z*z + c\n",
    "                    m[i, j] = n\n",
    "                else:\n",
    "                    break"
   ]
  },
  {
   "cell_type": "code",
   "execution_count": 10,
   "metadata": {},
   "outputs": [
    {
     "name": "stdout",
     "output_type": "stream",
     "text": [
      "10.1 ms ± 815 µs per loop (mean ± std. dev. of 7 runs, 1 loop each)\n"
     ]
    }
   ],
   "source": [
    "%%timeit m = np.zeros((size, size))\n",
    "mandelbrot_numba(m, size, iterations)"
   ]
  },
  {
   "cell_type": "markdown",
   "metadata": {},
   "source": [
    "## How it works\n",
    "Python bytecode is normally interpreted at runtime by the Python interpreter (e.g. CPython). By contrast, a Numba function is parsed and translated directly to machine code ahead of execution, using a powerful compiler architecture named **LLVM (Low Level Virtual Machine)**.\n",
    "\n",
    "Citing the offical documentation:\n",
    ">Numba is aware of NumPy arrays as typed memory regions and so can speedup code using NumPy arrays. Other, less well-typed code will be translated to Python C-API calls effectively removing the 'interpreter' but not removing the dynamic indirection."
   ]
  },
  {
   "cell_type": "markdown",
   "metadata": {},
   "source": [
    "### Comparison with manually vectorized code using NumPy\n",
    "This is the standard way of accelerating pure Python code. In practice it means replacing the code inside the two loops over `i` and `j` with array computations.\n",
    "\n",
    "This is relatively easy here as the operations closely follow the **Single Instruction, Multiple Data (SIMD)** paradigm"
   ]
  },
  {
   "cell_type": "code",
   "execution_count": 11,
   "metadata": {},
   "outputs": [],
   "source": [
    "import numpy as np\n",
    "import matplotlib.pyplot as plt\n",
    "%matplotlib inline"
   ]
  },
  {
   "cell_type": "code",
   "execution_count": 12,
   "metadata": {},
   "outputs": [],
   "source": [
    "def initialize(size):\n",
    "    x, y = np.meshgrid(np.linspace(-2, 1, size),\n",
    "                      np.linspace(-1.5, 1.5, size))\n",
    "    c = x + 1j*y\n",
    "    z = c.copy()\n",
    "    m = np.zeros((size, size))\n",
    "    return c, z, m"
   ]
  },
  {
   "cell_type": "code",
   "execution_count": 13,
   "metadata": {},
   "outputs": [],
   "source": [
    "size = 200\n",
    "iterations = 100\n",
    "\n",
    "def mandelbrot_numpy(c, z, m, iterations):\n",
    "    for n in range(iterations):\n",
    "        indices = np.abs(z) <= 10\n",
    "        z[indices] = z[indices]**2 + c[indices]\n",
    "        m[indices] = n"
   ]
  },
  {
   "cell_type": "code",
   "execution_count": 14,
   "metadata": {},
   "outputs": [
    {
     "name": "stdout",
     "output_type": "stream",
     "text": [
      "63.3 ms ± 22.5 ms per loop (mean ± std. dev. of 10 runs, 1 loop each)\n"
     ]
    }
   ],
   "source": [
    "%%timeit -n1 -r10 c, z, m = initialize(size)\n",
    "mandelbrot_numpy(c, z, m, iterations)"
   ]
  }
 ],
 "metadata": {
  "kernelspec": {
   "display_name": "Python 3",
   "language": "python",
   "name": "python3"
  },
  "language_info": {
   "codemirror_mode": {
    "name": "ipython",
    "version": 3
   },
   "file_extension": ".py",
   "mimetype": "text/x-python",
   "name": "python",
   "nbconvert_exporter": "python",
   "pygments_lexer": "ipython3",
   "version": "3.7.3"
  }
 },
 "nbformat": 4,
 "nbformat_minor": 2
}
