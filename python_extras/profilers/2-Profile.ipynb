{
 "cells": [
  {
   "cell_type": "markdown",
   "metadata": {},
   "source": [
    "# Profiling code with `cProfile` and `IPython`\n",
    "\n",
    "`%prun`: Run a statement through the python code profiler.\n",
    "\n",
    "In cell mode, the additional code lines are appended to the (possibly empty) statement in the first line. Cell mode allows you to easily profile multiline blocks without having to put them in a separate function.\n",
    "\n",
    "The given statement (which doesn't require quote marks) is run via the python profiler in a manner similar to the `profile.fun()` function. Namespaces are internally managed to work correctly; `profile.run` cannot be used in IPython because it makes certain assumptions about namespaces which do not hold under IPython.\n",
    "\n",
    "There are various options which you can find out by typing a question mark after function."
   ]
  },
  {
   "cell_type": "code",
   "execution_count": 2,
   "metadata": {},
   "outputs": [],
   "source": [
    "import numpy as np"
   ]
  },
  {
   "cell_type": "code",
   "execution_count": 3,
   "metadata": {},
   "outputs": [],
   "source": [
    "def step(*shape):\n",
    "    # Create a random n-vector with +1 or -1 values.\n",
    "    return 2 * (np.random.random_sample(shape) < .5) - 1"
   ]
  },
  {
   "cell_type": "markdown",
   "metadata": {},
   "source": [
    "We profile the cell, sort the report by \"cumulative time\", limit it to 10 lines, and save it to a file named \"prun0\"."
   ]
  },
  {
   "cell_type": "code",
   "execution_count": 7,
   "metadata": {},
   "outputs": [
    {
     "name": "stdout",
     "output_type": "stream",
     "text": [
      " \n",
      "*** Profile printout saved to text file 'prun0'. \n"
     ]
    }
   ],
   "source": [
    "%%prun -s cumulative -q -l 10 -T prun0\n",
    "n = 10000\n",
    "iterations = 50\n",
    "x = np.cumsum(step(iterations, n), axis=0)\n",
    "bins = np.arange(-30, 30, 1)\n",
    "y = np.vstack([np.histogram(x[i, :], bins)[0] for i in range(iterations)])"
   ]
  },
  {
   "cell_type": "code",
   "execution_count": 6,
   "metadata": {},
   "outputs": [
    {
     "name": "stdout",
     "output_type": "stream",
     "text": [
      "         2829 function calls (2527 primitive calls) in 0.009 seconds\r\n",
      "\r\n",
      "   Ordered by: cumulative time\r\n",
      "   List reduced from 58 to 10 due to restriction <10>\r\n",
      "\r\n",
      "   ncalls  tottime  percall  cumtime  percall filename:lineno(function)\r\n",
      "        1    0.000    0.000    0.009    0.009 {built-in method builtins.exec}\r\n",
      "        1    0.000    0.000    0.009    0.009 <string>:1(<module>)\r\n",
      "   354/52    0.000    0.000    0.006    0.000 {built-in method numpy.core._multiarray_umath.implement_array_function}\r\n",
      "        1    0.000    0.000    0.005    0.005 <string>:5(<listcomp>)\r\n",
      "       50    0.000    0.000    0.005    0.000 <__array_function__ internals>:2(histogram)\r\n",
      "       50    0.001    0.000    0.005    0.000 histograms.py:680(histogram)\r\n",
      "        1    0.003    0.003    0.003    0.003 <ipython-input-3-6d31778a15f0>:1(step)\r\n",
      "       50    0.000    0.000    0.002    0.000 <__array_function__ internals>:2(sort)\r\n",
      "       50    0.000    0.000    0.002    0.000 fromnumeric.py:826(sort)\r\n",
      "       50    0.001    0.000    0.001    0.000 {method 'sort' of 'numpy.ndarray' objects}"
     ]
    }
   ],
   "source": [
    "!cat 'prun0'"
   ]
  },
  {
   "cell_type": "markdown",
   "metadata": {},
   "source": [
    "### Create a script then run `cProfile`\n",
    "This generates a binary file but needs `pstats` to display."
   ]
  },
  {
   "cell_type": "code",
   "execution_count": 18,
   "metadata": {},
   "outputs": [
    {
     "name": "stdout",
     "output_type": "stream",
     "text": [
      "Overwriting myscript.py\n"
     ]
    }
   ],
   "source": [
    "%%writefile myscript.py\n",
    "def step(*shape): \n",
    "    # Create a random n-vector with +1 or -1 values.\n",
    "    return 2 * (np.random.random_sample(shape) < .5) - 1\n",
    "\n",
    "n = 10000\n",
    "iterations = 50\n",
    "x = np.cumsum(step(iterations, n), axis=0)\n",
    "bins = np.arange(-30, 30, 1)\n",
    "y = np.vstack([np.histogram(x[i,:], bins)[0]\n",
    "           for i in range(iterations)])  "
   ]
  },
  {
   "cell_type": "code",
   "execution_count": 16,
   "metadata": {},
   "outputs": [],
   "source": [
    "!python -m cProfile -o profresults myscript.py"
   ]
  },
  {
   "cell_type": "code",
   "execution_count": null,
   "metadata": {},
   "outputs": [],
   "source": [
    "import pstats\n",
    "p = pstats.Stats('profresults')\n",
    "p.strip_dirs().sort_stats('cumulative').print_stats()"
   ]
  },
  {
   "cell_type": "markdown",
   "metadata": {},
   "source": [
    "You can use **SnakeViz** to view profile dumps in a GUI program\n",
    "https://jiffyclub.github.io/snakeviz/"
   ]
  },
  {
   "cell_type": "code",
   "execution_count": 20,
   "metadata": {},
   "outputs": [],
   "source": [
    "%load_ext snakeviz"
   ]
  },
  {
   "cell_type": "code",
   "execution_count": 21,
   "metadata": {},
   "outputs": [
    {
     "name": "stdout",
     "output_type": "stream",
     "text": [
      " \n",
      "*** Profile stats marshalled to file '/var/folders/34/ztb7n7l13p79rmyk373rt1b80000gn/T/tmp6i7d1b9i'. \n",
      "Embedding SnakeViz in this document...\n"
     ]
    },
    {
     "data": {
      "text/html": [
       "\n",
       "<iframe id='snakeviz-0fa9b874-0c59-11ea-a4ab-acde48001122' frameborder=0 seamless width='100%' height='1000'></iframe>\n",
       "<script>document.getElementById(\"snakeviz-0fa9b874-0c59-11ea-a4ab-acde48001122\").setAttribute(\"src\", \"http://\" + document.location.hostname + \":8080/snakeviz/%2Fvar%2Ffolders%2F34%2Fztb7n7l13p79rmyk373rt1b80000gn%2FT%2Ftmp6i7d1b9i\")</script>\n"
      ],
      "text/plain": [
       "<IPython.core.display.HTML object>"
      ]
     },
     "metadata": {},
     "output_type": "display_data"
    }
   ],
   "source": [
    "%snakeviz 'profresults'"
   ]
  },
  {
   "cell_type": "code",
   "execution_count": null,
   "metadata": {},
   "outputs": [],
   "source": []
  }
 ],
 "metadata": {
  "kernelspec": {
   "display_name": "Python 3",
   "language": "python",
   "name": "python3"
  },
  "language_info": {
   "codemirror_mode": {
    "name": "ipython",
    "version": 3
   },
   "file_extension": ".py",
   "mimetype": "text/x-python",
   "name": "python",
   "nbconvert_exporter": "python",
   "pygments_lexer": "ipython3",
   "version": "3.7.3"
  }
 },
 "nbformat": 4,
 "nbformat_minor": 2
}
