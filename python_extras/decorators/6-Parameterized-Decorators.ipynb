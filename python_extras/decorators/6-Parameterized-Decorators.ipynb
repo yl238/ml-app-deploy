{
 "cells": [
  {
   "cell_type": "markdown",
   "metadata": {},
   "source": [
    "## Parameterized Decorators\n",
    "When parsing a decorator in source code, Python takes the decorated function and passes it as the first argument to the decorator function. So how do you make a decorator accept other arguments? \n",
    "\n",
    "Make a decorator factory that takes those arguments and returns a decorator, which is then applied to the function to be decorated."
   ]
  },
  {
   "cell_type": "code",
   "execution_count": 2,
   "metadata": {},
   "outputs": [
    {
     "name": "stdout",
     "output_type": "stream",
     "text": [
      "running register <function f1 at 0x7f4378492d90>\n",
      "running main()\n",
      "registry -> [<function f1 at 0x7f4378492d90>]\n",
      "running f1()\n"
     ]
    }
   ],
   "source": [
    "registry = []\n",
    "\n",
    "def register(func):\n",
    "    print('running register {}'.format(func))\n",
    "    registry.append(func)\n",
    "    return func\n",
    "\n",
    "@register\n",
    "def f1():\n",
    "    print('running f1()')\n",
    "    \n",
    "print('running main()')\n",
    "print('registry ->', registry)\n",
    "f1()"
   ]
  },
  {
   "cell_type": "markdown",
   "metadata": {},
   "source": [
    "### A Parameterized Registration Decorator\n",
    "\n",
    "In order to make it easy to enable to disable the function registration performed by register, we'll make it accept an optional `active` parameter which if `False`, skips registering the decorated function. Conceptually, the new `register` function is not a decorator but a decorator factory."
   ]
  },
  {
   "cell_type": "code",
   "execution_count": 3,
   "metadata": {},
   "outputs": [
    {
     "name": "stdout",
     "output_type": "stream",
     "text": [
      "Writing registration_param.py\n"
     ]
    }
   ],
   "source": [
    "%%writefile registration_param.py\n",
    "registry = set() # Adding and removing functions is faster\n",
    "\n",
    "def register(active=True):\n",
    "    def decorate(func): # This is the actual decorator - it takes a function as an argument\n",
    "        print('Running register(active=%s) -> decorate(%s)'\n",
    "             % (active, func))\n",
    "        if active:\n",
    "            registry.add(func)\n",
    "        else:\n",
    "            registry.discard(func)\n",
    "            \n",
    "        return func\n",
    "    return decorate\n",
    "\n",
    "# Now register must be invoked as a function with desired parameters\n",
    "@register(active=False)\n",
    "def f1():\n",
    "    print('running f1()')\n",
    "    \n",
    "# Even if no parameters, still need to be a function\n",
    "@register()\n",
    "def f2():\n",
    "    print('running f2()')\n",
    "    \n",
    "def f3():\n",
    "    print('running f3()')"
   ]
  },
  {
   "cell_type": "code",
   "execution_count": 4,
   "metadata": {},
   "outputs": [
    {
     "name": "stdout",
     "output_type": "stream",
     "text": [
      "Running register(active=False) -> decorate(<function f1 at 0x7f435e7011e0>)\n",
      "Running register(active=True) -> decorate(<function f2 at 0x7f435e701400>)\n"
     ]
    }
   ],
   "source": [
    "import registration_param"
   ]
  },
  {
   "cell_type": "code",
   "execution_count": 5,
   "metadata": {},
   "outputs": [
    {
     "data": {
      "text/plain": [
       "{<function registration_param.f2()>}"
      ]
     },
     "execution_count": 5,
     "metadata": {},
     "output_type": "execute_result"
    }
   ],
   "source": [
    "registration_param.registry"
   ]
  },
  {
   "cell_type": "markdown",
   "metadata": {},
   "source": [
    "### The Parameterized Clock Decorator\n",
    "Users may pass a format string to control the output of the decorated function."
   ]
  },
  {
   "cell_type": "code",
   "execution_count": 10,
   "metadata": {},
   "outputs": [
    {
     "name": "stdout",
     "output_type": "stream",
     "text": [
      "Writing clockdeco_param.py\n"
     ]
    }
   ],
   "source": [
    "%%writefile clockdeco_param.py\n",
    "import time\n",
    "\n",
    "DEFAULT_FMT = '[{elapsed:0.8f}s] {name}({args}) -> {result}'\n",
    "\n",
    "def clock(fmt=DEFAULT_FMT): # decorator factory\n",
    "    def decorate(func): # decoractor\n",
    "        def clocked(*_args): # clocked wraps the decorated function\n",
    "            t0 = time.time()\n",
    "            _result = func(*_args) # _result is the actual result of the decorated function\n",
    "            elapsed = time.time() - t0\n",
    "            name = func.__name__\n",
    "            args = ', '.join(repr(arg) for arg in _args) # _args holds the actual argument of clocked, \n",
    "                                                         # args is used for display\n",
    "            result = repr(_result) # result is the `str` representation of `_result` for display.\n",
    "            print(fmt.format(**locals())) # using **locals() allows any local variables of clocked\n",
    "                                          # to be referenced in the fmt.\n",
    "            return _result # clocked replaces the decorated function, so returns whatever the function\n",
    "                           # returns\n",
    "        return clocked   # decorate returns clocked.\n",
    "    return decorate # clock returns decorate\n",
    "\n",
    "if __name__ == '__main__':\n",
    "    @clock()\n",
    "    def snooze(seconds):\n",
    "        time.sleep(seconds)\n",
    "\n",
    "    for i in range(3):\n",
    "        snooze(.123)"
   ]
  },
  {
   "cell_type": "code",
   "execution_count": 12,
   "metadata": {},
   "outputs": [
    {
     "name": "stdout",
     "output_type": "stream",
     "text": [
      "[0.12325883s] snooze(0.123) -> None\n",
      "[0.12315345s] snooze(0.123) -> None\n",
      "[0.12327528s] snooze(0.123) -> None\n"
     ]
    }
   ],
   "source": [
    "!python clockdeco_param.py"
   ]
  },
  {
   "cell_type": "code",
   "execution_count": 13,
   "metadata": {},
   "outputs": [],
   "source": [
    "import time\n",
    "from clockdeco_param import clock"
   ]
  },
  {
   "cell_type": "code",
   "execution_count": 14,
   "metadata": {},
   "outputs": [
    {
     "name": "stdout",
     "output_type": "stream",
     "text": [
      "snooze: 0.1231997013092041s\n",
      "snooze: 0.12335586547851562s\n",
      "snooze: 0.12320470809936523s\n"
     ]
    }
   ],
   "source": [
    "@clock('{name}: {elapsed}s')\n",
    "def snooze(seconds):\n",
    "    time.sleep(seconds)\n",
    "    \n",
    "for i in range(3):\n",
    "    snooze(.123)"
   ]
  },
  {
   "cell_type": "code",
   "execution_count": 15,
   "metadata": {},
   "outputs": [
    {
     "name": "stdout",
     "output_type": "stream",
     "text": [
      "snooze(0.123) dt=0.123s\n",
      "snooze(0.123) dt=0.123s\n",
      "snooze(0.123) dt=0.123s\n"
     ]
    }
   ],
   "source": [
    "@clock('{name}({args}) dt={elapsed:0.3f}s')\n",
    "def snooze(seconds):\n",
    "    time.sleep(seconds)\n",
    "    \n",
    "for i in range(3):\n",
    "    snooze(.123)"
   ]
  }
 ],
 "metadata": {
  "kernelspec": {
   "display_name": "Python 3",
   "language": "python",
   "name": "python3"
  },
  "language_info": {
   "codemirror_mode": {
    "name": "ipython",
    "version": 3
   },
   "file_extension": ".py",
   "mimetype": "text/x-python",
   "name": "python",
   "nbconvert_exporter": "python",
   "pygments_lexer": "ipython3",
   "version": "3.7.3"
  }
 },
 "nbformat": 4,
 "nbformat_minor": 2
}
