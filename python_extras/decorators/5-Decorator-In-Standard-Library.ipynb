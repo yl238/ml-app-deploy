{
 "cells": [
  {
   "cell_type": "markdown",
   "metadata": {},
   "source": [
    "## Decorators in the Standard Library\n",
    "Python has three built-in functions that are designed to decorate methods: `property`, `classmethod` and `staticmethod`. \n",
    "\n",
    "Another frequently see decorator is `functools.wraps`, a helper for building well-behaved decorators. Two of the most interesting decorators in the standard library are `lru_cache` and the brand-new `singledispatch`.\n",
    "\n",
    "### Memoization with functools.lru_cache\n",
    "It implements memoization: an optimization technique that works by saving the results of previous invocations of an expensive function, avoiding repeat computations on previously used arguments. The letters LRU stand for Least Recently Used, meaning that the growth of the cache is limited by discarding the entries that have not been read for a while.\n",
    "\n",
    "A good demonstration is to apply `lru_cache` to the painfully slow recursive function to generate the $n$-th number in the FIbonacci sequence."
   ]
  },
  {
   "cell_type": "code",
   "execution_count": 1,
   "metadata": {},
   "outputs": [],
   "source": [
    "from clockdeco import clock\n",
    "\n",
    "@clock\n",
    "def fibonacci(n):\n",
    "    if n < 2:\n",
    "        return n\n",
    "    return fibonacci(n-2) + fibonacci(n-1)"
   ]
  },
  {
   "cell_type": "code",
   "execution_count": 2,
   "metadata": {},
   "outputs": [
    {
     "name": "stdout",
     "output_type": "stream",
     "text": [
      "[0.00000042s] fibonacci(0) -> 0\n",
      "[0.00000121s] fibonacci(1) -> 1\n",
      "[0.00039242s] fibonacci(2) -> 1\n",
      "[0.00000035s] fibonacci(1) -> 1\n",
      "[0.00000052s] fibonacci(0) -> 0\n",
      "[0.00000116s] fibonacci(1) -> 1\n",
      "[0.00016269s] fibonacci(2) -> 1\n",
      "[0.00020148s] fibonacci(3) -> 2\n",
      "[0.00063627s] fibonacci(4) -> 3\n",
      "[0.00000062s] fibonacci(1) -> 1\n",
      "[0.00000069s] fibonacci(0) -> 0\n",
      "[0.00000089s] fibonacci(1) -> 1\n",
      "[0.00010580s] fibonacci(2) -> 1\n",
      "[0.00024145s] fibonacci(3) -> 2\n",
      "[0.00000046s] fibonacci(0) -> 0\n",
      "[0.00000063s] fibonacci(1) -> 1\n",
      "[0.00005594s] fibonacci(2) -> 1\n",
      "[0.00000048s] fibonacci(1) -> 1\n",
      "[0.00000050s] fibonacci(0) -> 0\n",
      "[0.00000067s] fibonacci(1) -> 1\n",
      "[0.00005594s] fibonacci(2) -> 1\n",
      "[0.00011114s] fibonacci(3) -> 2\n",
      "[0.00022234s] fibonacci(4) -> 3\n",
      "[0.00052880s] fibonacci(5) -> 5\n",
      "[0.00150109s] fibonacci(6) -> 8\n"
     ]
    },
    {
     "data": {
      "text/plain": [
       "8"
      ]
     },
     "execution_count": 2,
     "metadata": {},
     "output_type": "execute_result"
    }
   ],
   "source": [
    "fibonacci(6)"
   ]
  },
  {
   "cell_type": "code",
   "execution_count": 5,
   "metadata": {},
   "outputs": [
    {
     "name": "stdout",
     "output_type": "stream",
     "text": [
      "Writing fibo_demo_lru.py\n"
     ]
    }
   ],
   "source": [
    "%%writefile fibo_demo_lru.py\n",
    "import functools\n",
    "\n",
    "from clockdeco import clock\n",
    "\n",
    "@functools.lru_cache()\n",
    "@clock\n",
    "def fibonacci(n):\n",
    "    if n < 2:\n",
    "        return n\n",
    "    return fibonacci(n-2) + fibonacci(n-1)\n",
    "\n",
    "if __name__ == '__main__':\n",
    "    print(fibonacci(6))"
   ]
  },
  {
   "cell_type": "code",
   "execution_count": 6,
   "metadata": {},
   "outputs": [
    {
     "name": "stdout",
     "output_type": "stream",
     "text": [
      "[0.00000292s] fibonacci(7) -> 13\n",
      "[0.00026382s] fibonacci(8) -> 21\n",
      "[0.00000291s] fibonacci(9) -> 34\n",
      "[0.00047479s] fibonacci(10) -> 55\n",
      "[0.00000242s] fibonacci(11) -> 89\n",
      "[0.00065550s] fibonacci(12) -> 144\n",
      "[0.00000365s] fibonacci(13) -> 233\n",
      "[0.00083090s] fibonacci(14) -> 377\n",
      "[0.00000333s] fibonacci(15) -> 610\n",
      "[0.00100278s] fibonacci(16) -> 987\n",
      "[0.00000379s] fibonacci(17) -> 1597\n",
      "[0.00117381s] fibonacci(18) -> 2584\n",
      "[0.00000408s] fibonacci(19) -> 4181\n",
      "[0.00134663s] fibonacci(20) -> 6765\n",
      "[0.00000357s] fibonacci(21) -> 10946\n",
      "[0.00152607s] fibonacci(22) -> 17711\n",
      "[0.00000344s] fibonacci(23) -> 28657\n",
      "[0.00233123s] fibonacci(24) -> 46368\n",
      "[0.00000442s] fibonacci(25) -> 75025\n",
      "[0.00266338s] fibonacci(26) -> 121393\n",
      "[0.00000290s] fibonacci(27) -> 196418\n",
      "[0.00283080s] fibonacci(28) -> 317811\n",
      "[0.00000203s] fibonacci(29) -> 514229\n",
      "[0.00297231s] fibonacci(30) -> 832040\n",
      "832040\n"
     ]
    }
   ],
   "source": [
    "print(fibonacci(30))"
   ]
  },
  {
   "cell_type": "markdown",
   "metadata": {},
   "source": [
    "It's important to note that `lru_cache` can be tuned by passing two optional arguments. It's full signature is:\n",
    "```python\n",
    "functools.lru_cache(maxsize=128, typed=False)\n",
    "```\n",
    "The `maxsize` argument determines how many call results are stored. After the cache is full, older results are discarded to make room. For optimal performance, `maxsize` should be a power of 2. The `typed` argument, if set to `True`, stores results of different argument types separately, i.e. distinguishing between float and integer arguments that are normally considered equal, like 1 and 1.0. By the way, because `lru_cache` uses a `dict` to store the results, and the keys are made from the positional and keyword arguments used in the calls, all the arguments taken by the decorated function must be *hashable*."
   ]
  },
  {
   "cell_type": "markdown",
   "metadata": {},
   "source": [
    "## Generic Functions with Single Dispatch\n",
    "Imagine we are creating a tool to debug web applications. We want to be able to generate HTML displays for different types of Python objects.\n",
    "\n",
    "We could start with a function like this:\n",
    "```python\n",
    "import html\n",
    "\n",
    "def htmlize(obj):\n",
    "    content = html.escape(repr(obj))\n",
    "    return '<pre>{}</pre>'.format(content)\n",
    "```\n",
    "That will work for any Python type, but now we want to extend it to generate custom display for some types:\n",
    "\n",
    "* `str`: replace embedded newline characters with `<br>\\n` and use `<p>` tags instead of `<pre>`\n",
    "* `int`: show the number in decimal and hexadecimal\n",
    "* `list`: output an HTML list, formatting each item according to its type."
   ]
  },
  {
   "cell_type": "markdown",
   "metadata": {},
   "source": [
    "The new `functools.singledispatch` decorator allows each module to contribute to the overall solution, and lets you easily provide a specialized function even for classes you can't edit. If you decorate a plain function with `@singledispatch`, it becomes a *generic function*: a group of functions to perform the same operation in different ways, depending on the type of the first argument."
   ]
  },
  {
   "cell_type": "code",
   "execution_count": 14,
   "metadata": {},
   "outputs": [],
   "source": [
    "from functools import singledispatch\n",
    "from collections import abc\n",
    "import numbers\n",
    "import html\n",
    "\n",
    "@singledispatch\n",
    "def htmlize(obj):\n",
    "    content = html.escape(repr(obj))\n",
    "    return '<pre>{}</pre>'.format(content)\n",
    "\n",
    "@htmlize.register(str)\n",
    "def _(text):\n",
    "    content = html.escape(text).replace('\\n', '<br>\\n')\n",
    "    return '<p>{}</p>'.format(content)\n",
    "\n",
    "@htmlize.register(numbers.Integral)\n",
    "def _(n):\n",
    "    return '<pre>{0} (0x{0:x})</pre>'.format(n)\n",
    "\n",
    "@htmlize.register(tuple)\n",
    "@htmlize.register(abc.MutableSequence)\n",
    "def _(seq):\n",
    "    inner = '</li>\\n<li>'.join(htmlize(item) for item in seq)\n",
    "    return '<ul>\\n<li>' + inner + '</li>\\n</ul>'"
   ]
  },
  {
   "cell_type": "code",
   "execution_count": 8,
   "metadata": {},
   "outputs": [
    {
     "data": {
      "text/plain": [
       "'<pre>&lt;built-in function abs&gt;</pre>'"
      ]
     },
     "execution_count": 8,
     "metadata": {},
     "output_type": "execute_result"
    }
   ],
   "source": [
    "htmlize(abs)"
   ]
  },
  {
   "cell_type": "code",
   "execution_count": 16,
   "metadata": {},
   "outputs": [
    {
     "data": {
      "text/plain": [
       "'<ul>\\n<li><pre>1 (0x1)</pre></li>\\n<li><pre>2 (0x2)</pre></li>\\n<li><pre>3 (0x3)</pre></li>\\n</ul>'"
      ]
     },
     "execution_count": 16,
     "metadata": {},
     "output_type": "execute_result"
    }
   ],
   "source": [
    "htmlize((1, 2, 3))"
   ]
  }
 ],
 "metadata": {
  "kernelspec": {
   "display_name": "Python 3",
   "language": "python",
   "name": "python3"
  },
  "language_info": {
   "codemirror_mode": {
    "name": "ipython",
    "version": 3
   },
   "file_extension": ".py",
   "mimetype": "text/x-python",
   "name": "python",
   "nbconvert_exporter": "python",
   "pygments_lexer": "ipython3",
   "version": "3.7.3"
  }
 },
 "nbformat": 4,
 "nbformat_minor": 2
}
