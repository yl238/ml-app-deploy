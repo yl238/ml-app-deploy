{
 "cells": [
  {
   "cell_type": "markdown",
   "metadata": {},
   "source": [
    "# How Python evaluates decorator syntax\n",
    "A decorator is a callable that takes another function as argument (the decorated function). The decorator may perform some processing with the decorated function, and returns it or replaces it with another function or callable object.\n",
    "\n",
    "In other words, assuming an existing decorator named `decorate`, this code:\n",
    "\n",
    "```python\n",
    "@decorate\n",
    "def target():\n",
    "    print('running target()')\n",
    "```\n",
    "\n",
    "Has the same effect as writing this:\n",
    "\n",
    "```python\n",
    "def target():\n",
    "    print('running target()')\n",
    "target = decorate(target)\n",
    "```\n",
    "\n",
    "At the end of either of these snippets, the `target` name does not necessarily refer to the original `target` function, but to whatever function is returned by `decorate(target)`.\n",
    "\n",
    "Strictly speaking, decorators are just syntactic sugar."
   ]
  },
  {
   "cell_type": "code",
   "execution_count": 1,
   "metadata": {},
   "outputs": [
    {
     "name": "stdout",
     "output_type": "stream",
     "text": [
      "running inner()\n"
     ]
    }
   ],
   "source": [
    "def deco(func):\n",
    "    def inner():\n",
    "        print('running inner()')\n",
    "    return inner\n",
    "\n",
    "@deco\n",
    "def target():\n",
    "    print('running target()')\n",
    "    \n",
    "target()"
   ]
  },
  {
   "cell_type": "code",
   "execution_count": 2,
   "metadata": {},
   "outputs": [
    {
     "data": {
      "text/plain": [
       "<function __main__.deco.<locals>.inner()>"
      ]
     },
     "execution_count": 2,
     "metadata": {},
     "output_type": "execute_result"
    }
   ],
   "source": [
    "target"
   ]
  },
  {
   "cell_type": "markdown",
   "metadata": {},
   "source": [
    "## Two crucial facts about decorators\n",
    "1. They have the power to replace the decorated function with a different one.\n",
    "2. They are executed immediately when a module is loaded."
   ]
  },
  {
   "cell_type": "code",
   "execution_count": 4,
   "metadata": {},
   "outputs": [
    {
     "name": "stdout",
     "output_type": "stream",
     "text": [
      "running register (%s) <function f1 at 0x7f6df273c6a8>\n",
      "running register (%s) <function f2 at 0x7f6df273c9d8>\n",
      "running main()\n",
      "registry -> [<function f1 at 0x7f6df273c6a8>, <function f2 at 0x7f6df273c9d8>]\n",
      "running f1()\n",
      "running f2()\n",
      "running f3()\n"
     ]
    }
   ],
   "source": [
    "registry = [] # hold references to functions decorated by @register\n",
    "\n",
    "def register(func): # takes a function as argument\n",
    "    print('running register (%s)', func) # display what function is being decorated\n",
    "    registry.append(func) # include function in registry\n",
    "    return func # we must return a function; here we return the same received as argument\n",
    "\n",
    "@register\n",
    "def f1():\n",
    "    print('running f1()')\n",
    "    \n",
    "@register\n",
    "def f2():\n",
    "    print('running f2()')\n",
    "    \n",
    "def f3(): # not decorated\n",
    "    print('running f3()')\n",
    "    \n",
    "def main(): # displays the registry, then calls the three functions\n",
    "    print('running main()')\n",
    "    print('registry ->', registry)\n",
    "    f1()\n",
    "    f2()\n",
    "    f3()\n",
    "main()"
   ]
  },
  {
   "cell_type": "markdown",
   "metadata": {},
   "source": [
    "1. When `register` is called, it receives as an argument the function object being decorated (all functions)\n",
    "2. After the module is loaded, the `registry` holds references to the two decorated functions: `f1` and `f2`. These functions, as well as `f3` are only executed when explicitly called by `main()`\n",
    "\n",
    "### What usually happens with decorators\n",
    "* A real decorator is usually defined in one module and applied to functions in other modules\n",
    "* Most decorators define an inner function and return it, instead of the original function."
   ]
  }
 ],
 "metadata": {
  "kernelspec": {
   "display_name": "Python 3",
   "language": "python",
   "name": "python3"
  },
  "language_info": {
   "codemirror_mode": {
    "name": "ipython",
    "version": 3
   },
   "file_extension": ".py",
   "mimetype": "text/x-python",
   "name": "python",
   "nbconvert_exporter": "python",
   "pygments_lexer": "ipython3",
   "version": "3.7.3"
  }
 },
 "nbformat": 4,
 "nbformat_minor": 2
}
