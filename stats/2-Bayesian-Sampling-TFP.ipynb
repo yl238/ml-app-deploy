{
 "cells": [
  {
   "cell_type": "code",
   "execution_count": 30,
   "metadata": {},
   "outputs": [],
   "source": [
    "import seaborn as sns\n",
    "import matplotlib.pyplot as plt\n",
    "%matplotlib inline"
   ]
  },
  {
   "cell_type": "code",
   "execution_count": 19,
   "metadata": {},
   "outputs": [],
   "source": [
    "import numpy as np\n",
    "import tensorflow as tf\n",
    "import tensorflow_probability as tfp\n",
    "\n",
    "assert(tf.executing_eagerly())\n",
    "print('TF version: ', tf.__version__)\n",
    "print('TFP version: ', tfp.__version__)"
   ]
  },
  {
   "cell_type": "markdown",
   "metadata": {},
   "source": [
    "This is one of the tutorials from Bayesian Probabilistic Method for Hackers, with data now using the NAO storms instead of text messaging. We still copy all the text and experiments though.\n",
    "\n",
    "## Poisson distribution\n",
    "### Discrete case\n",
    "If a random variable $Z$ is discrete, then its distribution is called a *probability mass function*, which measures the probability $Z$ takes on the value $k$, denoted by $P(Z=k)$. Note that the probability mass function completely describes the random variable $Z$, that is, if we know the mass function, we know how $Z$ should behave. There are popular probability mass functions that consistently appear: Let's introduce the first very useful PMF. We say that $Z$ is *Poisson* distributed if \n",
    "\n",
    "$$\n",
    "P(Z=k) = \\frac{\\lambda^k e^{-\\lambda}}{k!},\\, k = 0, 1, 2,\\ldots\n",
    "$$\n",
    "\n",
    "$\\lambda$ is called a parameter of the distribution, and it controls the distribution's shape. For the Poisson distribution, $\\lambda$ can be any positive number. By increasing $\\lambda$, we add more probability to larger values, and conversely by decreasing $\\lambda$ we add more probability to smaller values. One can describe $\\lambda$ as the *intensity* of the Poisson distribution.\n",
    "\n",
    "Unlike $\\lambda$, which can be any positive number, the value $k$ in the above formula must be a non-negative integer, i.e. $k$ must take on values of 0, 1, 2 and so on. This is very important, because if you want to model a population you cannot make sense of populations with 4.25 or 5.612 members.\n",
    "\n",
    "If a random variable $Z$ has a Poisson mass distribution, we denote this by writing\n",
    "\n",
    "$$\n",
    "Z\\sim \\mathrm{Poi}(\\lambda)\n",
    "$$\n",
    "\n",
    "One useful property of the Poisson distribution is that its expected value is equal to its parameter, i.e.\n",
    "\n",
    "$$\n",
    "E[Z |\\lambda] = \\lambda\n",
    "$$\n",
    "\n",
    "We will use this property often.\n",
    "### Continuous case\n",
    "Instead of a probability mass function, a continuous random variable has a *probability density function*. An example of continuous random variable is a random variable with *exponential density*. The density function for an exponential random variable looks like this:\n",
    "\n",
    "$$\n",
    "f_Z(z|\\lambda) = \\lambda e^{-\\lambda z},\\,z\\ge 0\n",
    "$$\n",
    "\n",
    "Like a Poisson random variable, an exponential random variable can only take on non-negative values. But unlike a Poisson variable, the exponential can take on any non-negative values. This makes it a poor choice for count data but a great choice for time data, temperature data or any other precise and *positive* variable."
   ]
  },
  {
   "cell_type": "code",
   "execution_count": 14,
   "metadata": {},
   "outputs": [],
   "source": [
    "tfd = tfp.distributions\n",
    "tfb = tfp.bijectors"
   ]
  },
  {
   "cell_type": "markdown",
   "metadata": {},
   "source": [
    "## Example: inferring behaviour from text-message data"
   ]
  },
  {
   "cell_type": "code",
   "execution_count": 31,
   "metadata": {},
   "outputs": [],
   "source": [
    "import pandas as pd\n",
    "\n",
    "# www.ncdc.noaa.gov/ibtracs/index.php?name=wmo-data\n",
    "df = pd.read_csv('https://github.com/ipython-books/'\n",
    "    'cookbook-2nd-data/blob/master/'\n",
    "    'Allstorms.ibtracs_wmo.v03r05.csv?'\n",
    "    'raw=true',\n",
    "    delim_whitespace=False)\n",
    "\n",
    "cnt = df[df['Basin'] == ' NA'].groupby('Season')['Serial_Num'].nunique()\n",
    "# The years from 1851 to 2012\n",
    "years = cnt.index\n",
    "y0, y1 = years[0], years[-1]\n",
    "arr = cnt.values"
   ]
  },
  {
   "cell_type": "code",
   "execution_count": 32,
   "metadata": {},
   "outputs": [],
   "source": [
    "count_data = tf.constant(arr, dtype=tf.float32)\n",
    "n_count_data = tf.shape(count_data)\n",
    "years = tf.constant(years)"
   ]
  },
  {
   "cell_type": "code",
   "execution_count": 33,
   "metadata": {},
   "outputs": [],
   "source": [
    "[\n",
    "    count_data_,\n",
    "    n_count_data_,\n",
    "    years_,\n",
    "] = evaluate([\n",
    "    count_data,\n",
    "    n_count_data,\n",
    "    years,\n",
    "])"
   ]
  },
  {
   "cell_type": "code",
   "execution_count": 35,
   "metadata": {},
   "outputs": [
    {
     "data": {
      "image/png": "[encoded data removed]",
      "text/plain": [
       "<Figure size 900x288 with 1 Axes>"
      ]
     },
     "metadata": {
      "needs_background": "light"
     },
     "output_type": "display_data"
    }
   ],
   "source": [
    "plt.figure(figsize=(12.5, 4))\n",
    "plt.bar(years_, count_data_, color='#5DA5DA')\n",
    "plt.xlabel('Year')\n",
    "plt.ylabel('Number of storms');"
   ]
  },
  {
   "cell_type": "markdown",
   "metadata": {},
   "source": [
    "How can we start to model this? Well, as we have conveniently already seen, a Poisson random variable is a very appropriate model for this type of *count* data. Denoting year $i$'s storm count by $C_i$,\n",
    "\n",
    "$$\n",
    "C_i\\sim \\mathrm{Poisson}(\\lambda)\n",
    "$$\n",
    "\n",
    "We are not sure what the value of the $\\lambda$ parameter really is, however. Looking at the chart above, it appears that the rate might become higher later in the observation period, which is equivalent to saying $\\lambda$ increases at some point during the observations. (Recall that a higher value of $\\lambda$ assigns more probability to larger outcomes. That is, there is a higher probability of many storms in that year).\n",
    "\n",
    "How can we represent this observation mathematically? Let's assume that for some year during the observation period (call it $\\tau$), the parameter $\\lambda$ suddenly jumps to a higher value. So we really have two $\\lambda$ parameters: one for the period before $\\tau$, and one for the rest of the observation period. In literature, a sudden transition like this would be called a *switchpoint*:\n",
    "\n",
    "$$\n",
    "\\lambda = \\begin{cases}\\lambda_1 & \\text{if } t \\lt \\tau, \\\\\n",
    "\\lambda_2 & \\text{if } t \\ge \\tau\n",
    "\\end{cases}\n",
    "$$\n",
    "\n",
    "If in reality no sudden change occurred and indeed $\\lambda_1 = \\lambda_2$, then the $\\lambda$s posterior distributions should look about equal.\n",
    "\n",
    "We are interested in inferring the unknown $\\lambda$s. To use Bayesian inference, we need to assign prior probabilities to the different possible values of $\\lambda$. What would be good prior probability distributions for $\\lambda_1$ and $\\lambda_2$? Recall that $\\lambda$ can be any positive number. As we saw earlier, the *exponential* distribution provides a continuous density function for positive numbers, so it might be a good choice for modelling $\\lambda_i$. But recall that the exponential distribution takes a parameter of its own, so we'll need to include that parameter in our model. Let's call that parameter $\\alpha$.\n",
    "\n",
    "$$\n",
    "\\lambda_1 \\sim\\mathrm{Exp}(\\alpha) \\\\\n",
    "\\lambda_2 \\sim\\mathrm{Exp}(\\alpha)\n",
    "$$\n",
    "\n",
    "$\\alpha$ is called a *hyper-parameter* or *parent variable*. In literal terms, it is a parameter that influences other parameters. Our initial guess at $\\alpha$ does not influence the model too strongly, so we have some flexibility in our choice. A good rule of thumb is to set the exponential parameter equal to the inverse of the average of the count data. Since we are modelling $\\lambda$ using an exponential distribution, we can use the expected value identity shown earlier to get:\n",
    "\n",
    "$$\n",
    "\\frac{1}{N}\\sum_{i=0}^N C_i\\approx E[\\lambda|\\alpha] = \\frac{1}{\\alpha}\n",
    "$$\n",
    "\n",
    "What about $\\tau$? Because of the noisiness of the data, it's difficult to pick out a priori when $\\tau$ might have occurred. Instead, we can assign a *uniform prior belief* to every possible year. This is equivalent to saying \n",
    "\n",
    "$$\n",
    "\\tau\\sim \\mathrm{DiscreteUniform}(1, 162) \\\\\n",
    "\\rightarrow P(\\tau = k) = \\frac{1}{70}\n",
    "$$\n",
    "So after all this, what does our overall prior distribution for the unknown variable look like? Frankly, *it doesn't matter*. All we really care about is the posterior distribution."
   ]
  },
  {
   "cell_type": "markdown",
   "metadata": {},
   "source": [
    "## Probabilistic Programming\n",
    "B. Cronin has a very motivating description of probabilistic programming:\n",
    ">Another way of thinking about this: unlike a traditional program, which only runs in the forward directions, a probabilistic program is run in both the forward and backward direction. It runs forward to compute the consequences of the assumptions it contains about the world (i.e., the model space it represents), but it also runs backward from the data to constrain the possible explanations. In practice, many probabilistic programming systems will cleverly interleave these forward and backward operations to efficiently home in on the best explanations.\n",
    "\n",
    "### Tensorflow Probability: Specify the joint log-density.\n",
    "We are representing the model's components $(\\tau,\\lambda_1,\\lambda_2)$ as variables.\n",
    "\n",
    "We'll assume the data is a consequence of the following generative model:\n",
    "$$\n",
    "\\lambda_1^{(0)} \\sim\\mathrm{Exponential}(\\mathrm{rate} = \\alpha) \\\\\n",
    "\\lambda_2^{(0)} \\sim \\mathrm{Exponential}(\\mathrm{rate} = \\alpha) \\\\\n",
    "\\tau \\sim\\mathrm{Uniform}[\\mathrm{low}=0,\\mathrm{high}=1)\n",
    "$$\n",
    "\n",
    "$$\n",
    "\\mathrm{for}\\,i=1,\\ldots,N: \n",
    "$$\n",
    "\n",
    "$$\n",
    "\\lambda_i = \\begin{cases}\\lambda_1^{(0)}, & \\tau\\lt i/N \\\\\n",
    "\\lambda_2^{(0)}, & \\text{otherwise}\n",
    "\\end{cases}\n",
    "$$\n",
    "\n",
    "$$\n",
    "X_i\\sim\\text{Poisson(rate}=\\lambda_i)\n",
    "$$\n",
    "\n",
    "This code creates a new function `lambda_`, but really we can think of it as a random variable: the random variable $\\lambda$ from above. The `gather` function assigns `lambda_1` or `lambda_2` as the value of `lambda_`, depending on what side of `tau` we are on. THe values of `lambda_` up until `tau` are `lambda_1` and the values afterwards are `lambda_2`.\n",
    "\n",
    "Note that because `lambda_1`, `lambda_2` and `tau` are random, `lambda_` will be random. We are **not** fixing any variables yet.\n",
    "\n",
    "TFP performs probabilistic inference by evaluating the model parameters using a joint_log_prob function."
   ]
  },
  {
   "cell_type": "markdown",
   "metadata": {},
   "source": [
    "### Specify the posterior sampler\n",
    "Markov Chain Monte Carlo (MCMC)"
   ]
  },
  {
   "cell_type": "code",
   "execution_count": 54,
   "metadata": {},
   "outputs": [],
   "source": [
    "# Set the chains's start state\n",
    "initial_chain_state = [\n",
    "    tf.cast(tf.reduce_mean(count_data), tf.float32) * tf.ones([], dtype=tf.float32, name='init_lambda1'),\n",
    "    tf.cast(tf.reduce_mean(count_data), tf.float32) * tf.ones([], dtype=tf.float32, name='init_lambda2'),\n",
    "    0.5 * tf.ones([], dtype=tf.float32, name='init_tau'),\n",
    "]"
   ]
  },
  {
   "cell_type": "code",
   "execution_count": 55,
   "metadata": {},
   "outputs": [],
   "source": [
    "# Since HMC operates over unconstrained space, we need to transform the \n",
    "# samples so they live in real space.\n",
    "unconstraining_bijectors = [\n",
    "    tfp.bijectors.Exp(), # Maps a positive real to R.\n",
    "    tfp.bijectors.Exp(), # Maps a positive real to R.\n",
    "    tfp.bijectors.Sigmoid(), # Maps [0, 1] to R.\n",
    "]"
   ]
  },
  {
   "cell_type": "code",
   "execution_count": 67,
   "metadata": {},
   "outputs": [],
   "source": [
    "def joint_log_prob(count_data, lambda_1, lambda_2, tau):\n",
    "    tfd = tfp.distributions\n",
    " \n",
    "    alpha = (1. / tf.reduce_mean(count_data))\n",
    "    rv_lambda_1 = tfd.Exponential(rate=alpha)\n",
    "    rv_lambda_2 = tfd.Exponential(rate=alpha)\n",
    " \n",
    "    rv_tau = tfd.Uniform()\n",
    " \n",
    "\n",
    "    lambda_ = tf.gather(\n",
    "         [lambda_1, lambda_2],\n",
    "         indices=tf.cast(tau * tf.cast(tf.size(count_data), tf.float32) <= tf.cast(tf.range(tf.size(count_data)), tf.float32), tf.int32))\n",
    "    rv_observation = tfd.Poisson(rate=lambda_)\n",
    " \n",
    "    return (\n",
    "         rv_lambda_1.log_prob(lambda_1)\n",
    "         + rv_lambda_2.log_prob(lambda_2)\n",
    "         + rv_tau.log_prob(tau)\n",
    "         + tf.reduce_sum(rv_observation.log_prob(count_data))\n",
    "    )"
   ]
  },
  {
   "cell_type": "code",
   "execution_count": 56,
   "metadata": {},
   "outputs": [],
   "source": [
    "# Define a closure over our joint_log_prob.\n",
    "def unnormalized_log_posterior(lambda1, lambda2, tau):\n",
    "    return joint_log_prob(count_data, lambda1, lambda2, tau)"
   ]
  },
  {
   "cell_type": "code",
   "execution_count": 57,
   "metadata": {},
   "outputs": [],
   "source": [
    "step_size = tf.Variable(tf.constant(0.05, dtype=tf.float32), name='step_size', trainable=False)"
   ]
  },
  {
   "cell_type": "markdown",
   "metadata": {},
   "source": [
    "Very nasty change here where you have to use several layers of kernels."
   ]
  },
  {
   "cell_type": "code",
   "execution_count": 102,
   "metadata": {
    "scrolled": false
   },
   "outputs": [
    {
     "name": "stderr",
     "output_type": "stream",
     "text": [
      "/home/yl238/projects/python-extras/.env/lib/python3.7/site-packages/tensorflow_probability/python/mcmc/sample.py:336: UserWarning: Tracing all kernel results by default is deprecated. Set the `trace_fn` argument to None (the future default value) or an explicit callback that traces the values you are interested in.\n",
      "  warnings.warn(\"Tracing all kernel results by default is deprecated. Set \"\n"
     ]
    }
   ],
   "source": [
    "num_results=5000\n",
    "num_burnin_steps=500\n",
    "\n",
    "kernel = tfp.mcmc.TransformedTransitionKernel(\n",
    "        tfp.mcmc.HamiltonianMonteCarlo(\n",
    "            target_log_prob_fn=unnormalized_log_posterior,\n",
    "            num_leapfrog_steps=2,\n",
    "            step_size=0.1),\n",
    "        bijector=unconstraining_bijectors)\n",
    "\n",
    "adapt_hmc = tfp.mcmc.SimpleStepSizeAdaptation(\n",
    "    inner_kernel=kernel,\n",
    "    num_adaptation_steps=int(num_burnin_steps*0.8))\n",
    "\n",
    "[\n",
    "    lambda_1_samples,\n",
    "    lambda_2_samples,\n",
    "    posterior_tau,\n",
    "], kernel_results = tfp.mcmc.sample_chain(\n",
    "    num_results=num_results,\n",
    "    num_burnin_steps=num_burnin_steps,\n",
    "    current_state=initial_chain_state,  \n",
    "    kernel = adapt_hmc\n",
    ")\n",
    "\n",
    "tau_samples = tf.floor(posterior_tau * tf.cast(tf.size(count_data), tf.float32), tf.float32)"
   ]
  },
  {
   "cell_type": "code",
   "execution_count": 90,
   "metadata": {},
   "outputs": [],
   "source": [
    "def evaluate(tensors):\n",
    "    \"\"\"Evaluates Tensor or EagerTensor to Numpy `ndarray`s.\n",
    "    Args:\n",
    "    tensors: Object of `Tensor` or EagerTensor`s; can be `list`, `tuple`,\n",
    "      `namedtuple` or combinations thereof.\n",
    " \n",
    "    Returns:\n",
    "      ndarrays: Object with same structure as `tensors` except with `Tensor` or\n",
    "        `EagerTensor`s replaced by Numpy `ndarray`s.\n",
    "    \"\"\"\n",
    "    if tf.executing_eagerly():\n",
    "        return tf.nest.pack_sequence_as(\n",
    "            tensors,\n",
    "            [t.numpy() if tf.is_tensor(t) else t\n",
    "             for t in tf.nest.flatten(tensors)])\n",
    "    return sess.run(tensors)"
   ]
  },
  {
   "cell_type": "code",
   "execution_count": 119,
   "metadata": {},
   "outputs": [],
   "source": [
    "# tau_samples, lambda_1_samples, lambda_2_samples contain\n",
    "# N samples from the corresponding posterior distribution\n",
    "N = tf.shape(tau_samples)[0]\n",
    "expected_storms_per_year = tf.zeros(n_count_data)"
   ]
  },
  {
   "cell_type": "code",
   "execution_count": 120,
   "metadata": {},
   "outputs": [
    {
     "name": "stdout",
     "output_type": "stream",
     "text": [
      "acceptance rate: 0.4866\n"
     ]
    }
   ],
   "source": [
    "[\n",
    "    lambda_1_samples_,\n",
    "    lambda_2_samples_,\n",
    "    tau_samples_,\n",
    "    kernel_results_,\n",
    "    N_,\n",
    "    expected_storms_per_year_,\n",
    "] = evaluate([\n",
    "    lambda_1_samples,\n",
    "    lambda_2_samples,\n",
    "    tau_samples,\n",
    "    kernel_results,\n",
    "    N,\n",
    "    expected_storms_per_year,\n",
    "])\n",
    "\n",
    "    \n",
    "print(\"acceptance rate: {}\".format(\n",
    "    kernel_results_.inner_results.inner_results.is_accepted.mean()))"
   ]
  },
  {
   "cell_type": "code",
   "execution_count": 126,
   "metadata": {
    "scrolled": false
   },
   "outputs": [
    {
     "data": {
      "image/png": "[encoded data removed]",
      "text/plain": [
       "<Figure size 900x1080 with 3 Axes>"
      ]
     },
     "metadata": {
      "needs_background": "light"
     },
     "output_type": "display_data"
    }
   ],
   "source": [
    "plt.figure(figsize=(12.5, 15))\n",
    "#histogram of the samples:\n",
    "\n",
    "ax = plt.subplot(311)\n",
    "ax.set_autoscaley_on(False)\n",
    "\n",
    "plt.hist(lambda_1_samples_, histtype='stepfilled', bins=30, alpha=0.85,\n",
    "         label=r\"posterior of $\\lambda_1$\",  density=True)\n",
    "plt.legend(loc=\"upper left\")\n",
    "plt.title(r\"\"\"Posterior distributions of the variables $\\lambda_1,\\;\\lambda_2,\\;\\tau$\"\"\")\n",
    "plt.xlim([0, 20])\n",
    "plt.xlabel(r\"$\\lambda_1$ value\")\n",
    "\n",
    "ax = plt.subplot(312)\n",
    "ax.set_autoscaley_on(False)\n",
    "plt.hist(lambda_2_samples_, histtype='stepfilled', bins=30, alpha=0.85,\n",
    "         label=r\"posterior of $\\lambda_2$\", density=True)\n",
    "plt.legend(loc=\"upper left\")\n",
    "plt.xlim([0, 20])\n",
    "plt.xlabel(r\"$\\lambda_2$ value\")\n",
    "\n",
    "plt.subplot(313)\n",
    "w = 1.0 / tau_samples_.shape[0] * np.ones_like(tau_samples_)\n",
    "plt.hist(tau_samples_, bins=n_count_data_[0], alpha=1,\n",
    "         label=r\"posterior of $\\tau$\",\n",
    "         weights=w, rwidth=2.)\n",
    "plt.xticks(np.arange(n_count_data_[0]/5)*5, rotation=45)\n",
    "\n",
    "plt.legend(loc=\"upper left\")\n",
    "\n",
    "plt.xlabel(r\"$\\tau$ Year\")\n",
    "plt.ylabel(r\"probability\");"
   ]
  },
  {
   "cell_type": "code",
   "execution_count": 125,
   "metadata": {},
   "outputs": [
    {
     "data": {
      "image/png": "[encoded data removed]",
      "text/plain": [
       "<Figure size 900x648 with 1 Axes>"
      ]
     },
     "metadata": {
      "needs_background": "light"
     },
     "output_type": "display_data"
    }
   ],
   "source": [
    "plt.figure(figsize=(12.5, 9))\n",
    "\n",
    "for day in range(0, n_count_data_[0]):\n",
    "    # ix is a bool index of all tau samples corresponding to\n",
    "    # the switchpoint occurring prior to value of 'day'\n",
    "    ix = day < tau_samples_\n",
    "    # Each posterior sample corresponds to a value for tau.\n",
    "    # for each day, that value of tau indicates whether we're \"before\"\n",
    "    # (in the lambda1 \"regime\") or\n",
    "    #  \"after\" (in the lambda2 \"regime\") the switchpoint.\n",
    "    # by taking the posterior sample of lambda1/2 accordingly, we can average\n",
    "    # over all samples to get an expected value for lambda on that day.\n",
    "    # As explained, the \"message count\" random variable is Poisson distributed,\n",
    "    # and therefore lambda (the poisson parameter) is the expected value of\n",
    "    # \"message count\".\n",
    "    expected_storms_per_year_[day] = (lambda_1_samples_[ix].sum()\n",
    "                                   + lambda_2_samples_[~ix].sum()) / N_\n",
    "\n",
    "\n",
    "plt.plot(years_, expected_storms_per_year_, lw=4, color=\"#E24A33\",\n",
    "         label=\"Expected number of storms\")\n",
    "#plt.xlim(0, n_count_data_[0])\n",
    "plt.xlabel(\"Day\")\n",
    "plt.ylabel(\"Number of storms\")\n",
    "plt.title(\"Expected number of storms\")\n",
    "plt.bar(years_, count_data_, color=\"#5DA5DA\", alpha=0.65,\n",
    "        label=\"Observed number of storms\")\n",
    "\n",
    "plt.legend(loc=\"upper left\");"
   ]
  },
  {
   "cell_type": "code",
   "execution_count": null,
   "metadata": {},
   "outputs": [],
   "source": []
  }
 ],
 "metadata": {
  "kernelspec": {
   "display_name": "Python 3",
   "language": "python",
   "name": "python3"
  },
  "language_info": {
   "codemirror_mode": {
    "name": "ipython",
    "version": 3
   },
   "file_extension": ".py",
   "mimetype": "text/x-python",
   "name": "python",
   "nbconvert_exporter": "python",
   "pygments_lexer": "ipython3",
   "version": "3.7.3"
  }
 },
 "nbformat": 4,
 "nbformat_minor": 2
}
